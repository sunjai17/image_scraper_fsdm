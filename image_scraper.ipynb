{
 "cells": [
  {
   "cell_type": "code",
   "execution_count": 4,
   "id": "64d48575-a132-4804-8b70-3f6537ed9869",
   "metadata": {},
   "outputs": [],
   "source": [
    "import requests\n",
    "import logging \n",
    "import os\n",
    "from bs4 import BeautifulSoup\n",
    "from urllib.request import urlopen"
   ]
  },
  {
   "cell_type": "code",
   "execution_count": 5,
   "id": "c6f44385-c524-445c-825e-815496f6dd24",
   "metadata": {},
   "outputs": [],
   "source": [
    "save_dir=\"images/\"\n",
    "if not os.path.exists(save_dir):\n",
    "    os.makedirs(save_dir)"
   ]
  },
  {
   "cell_type": "code",
   "execution_count": 44,
   "id": "488fe612-f09c-455e-a644-5cac7cde7672",
   "metadata": {},
   "outputs": [],
   "source": [
    "query=\"suresh raina\"\n",
    "#url=https://www.google.com/search?q=query&tbm=isch&ved=2ahUKEwjQn7efg_qCAxVNbmwGHVL-Az8Q2-cCegQIABAA&oq=elon+musk&gs_lcp=CgNpbWcQAzIECCMQJzINCAAQgAQQigUQQxCxAzIICAAQgAQQsQMyDQgAEIAEEIoFEEMQsQMyCAgAEIAEELEDMggIABCABBCxAzIKCAAQgAQQigUQQzIICAAQgAQQsQMyCAgAEIAEELEDMg0IABCABBCKBRBDELEDUABYAGCgBWgAcAB4AIABeYgBeZIBAzAuMZgBAKoBC2d3cy13aXotaW1nwAEB&sclient=img&ei=eP9vZdCDJM3cseMP0vyP-AM&bih=651&biw=1366&rlz=1C1RXQR_enIN1082IN1082"
   ]
  },
  {
   "cell_type": "code",
   "execution_count": 45,
   "id": "9f131af5-c968-4dc2-93be-db48a92b99b6",
   "metadata": {},
   "outputs": [],
   "source": [
    "response=requests.get(f\"https://www.google.com/search?q={query}&tbm=isch&ved=2ahUKEwjQn7efg_qCAxVNbmwGHVL-Az8Q2-cCegQIABAA&oq=elon+musk&gs_lcp=CgNpbWcQAzIECCMQJzINCAAQgAQQigUQQxCxAzIICAAQgAQQsQMyDQgAEIAEEIoFEEMQsQMyCAgAEIAEELEDMggIABCABBCxAzIKCAAQgAQQigUQQzIICAAQgAQQsQMyCAgAEIAEELEDMg0IABCABBCKBRBDELEDUABYAGCgBWgAcAB4AIABeYgBeZIBAzAuMZgBAKoBC2d3cy13aXotaW1nwAEB&sclient=img&ei=eP9vZdCDJM3cseMP0vyP-AM&bih=651&biw=1366&rlz=1C1RXQR_enIN1082IN1082\")"
   ]
  },
  {
   "cell_type": "code",
   "execution_count": 46,
   "id": "4cae3632-f923-44be-8404-31a3ae724cd4",
   "metadata": {},
   "outputs": [
    {
     "data": {
      "text/plain": [
       "<Response [200]>"
      ]
     },
     "execution_count": 46,
     "metadata": {},
     "output_type": "execute_result"
    }
   ],
   "source": [
    "response"
   ]
  },
  {
   "cell_type": "code",
   "execution_count": 47,
   "id": "254d0f45-8ab4-425c-a445-04e1f9545895",
   "metadata": {},
   "outputs": [],
   "source": [
    "soup=BeautifulSoup(response.content,\"html.parser\")\n",
    "#BeautifulSoup is used to pass the html content "
   ]
  },
  {
   "cell_type": "code",
   "execution_count": 48,
   "id": "bb069659-458f-4bc7-ba20-d2367b764150",
   "metadata": {},
   "outputs": [
    {
     "data": {
      "text/plain": [
       "<!DOCTYPE html PUBLIC \"-//WAPFORUM//DTD XHTML Mobile 1.0//EN\" \"http://www.wapforum.org/DTD/xhtml-mobile10.dtd\">\n",
       "<html lang=\"en-IN\" xmlns=\"http://www.w3.org/1999/xhtml\"><head><meta content=\"application/xhtml+xml; charset=utf-8\" http-equiv=\"Content-Type\"/><meta content=\"no-cache\" name=\"Cache-Control\"/><title>suresh raina - Google Search</title><style>a{text-decoration:none;color:inherit}a:hover{text-decoration:underline}a img{border:0}body{font-family:arial,sans-serif;padding:8px;margin:0 auto;max-width:700px;min-width:240px;}.FbhRzb{border-left:thin solid #dadce0;border-right:thin solid #dadce0;border-top:thin solid #dadce0;height:40px;overflow:hidden}.n692Zd{margin-bottom:10px}.cvifge{height:40px;border-spacing:0}.QvGUP{height:40px;padding:0 8px 0 8px;vertical-align:top}.O4cRJf{height:40px;width:100%;padding:0;padding-right:16px}.O1ePr{height:40px;padding:0;vertical-align:top}.kgJEQe{height:36px;width:98px;vertical-align:top;margin-top:4px}.lXLRf{vertical-align:top}.MhzMZd{border:0;vertical-align:middle;font-size:14px;height:40px;padding:0;width:100%;padding-left:16px}.xB0fq{height:40px;border:none;font-size:14px;background-color:#1a73e8;color:#fff;padding:0 16px;margin:0;vertical-align:top;cursor:pointer}.xB0fq:focus{border:1px solid #1a73e8}.M7pB2{border:thin solid #dadce0;margin:0 0 3px 0;font-size:13px;font-weight:500;height:40px}.euZec{width:100%;height:40px;text-align:center;border-spacing:0}table.euZec td{padding:0;width:25%}.QIqI7{display:inline-block;padding-top:4px;font-weight:bold;color:#4285f4}.EY24We{border-bottom:2px solid #4285f4}.CsQyDc{display:inline-block;color:#70757a}.TuS8Ad{font-size:14px}.HddGcc{padding:8px;color:#70757a}.dzp8ae{font-weight:bold;color:#3c4043}.rEM8G{color:#70757a}.bookcf{table-layout:fixed;width:100%;border-spacing:0}.InWNIe{text-align:center}.uZgmoc{border:thin solid #dadce0;color:#70757a;font-size:14px;text-align:center;table-layout:fixed;width:100%}.frGj1b{display:block;padding:12px 0 12px 0;width:100%}.BnJWBc{text-align:center;padding:6px 0 13px 0;height:35px}.e3goi{vertical-align:top;padding:0;height:180px}.GpQGbf{margin:auto;border-collapse:collapse;border-spacing:0;width:100%}</style></head><body><style>.X6ZCif{color:#202124;font-size:11px;line-height:16px;display:inline-block;padding-top:2px;overflow:hidden;padding-bottom:4px;width:100%}.TwVfHd{border-radius:16px;border:thin solid #dadce0;display:inline-block;padding:8px 8px;margin-right:8px;margin-bottom:4px}.yekiAe{background-color:#dadce0}.jjVJ4e{width:100%}.ezO2md{border:thin solid #dadce0;padding:12px 16px 12px 16px;margin-bottom:10px;font-family:arial,sans-serif}.lIMUZd{font-family:arial,sans-serif}.RntSmf{border-spacing:0}.lgD2Tc{width:100%}.SpelHe{text-align:center}.SpelHe{position:relative}.deHqpb{bottom:0;left:0;margin:auto;position:absolute;right:0;top:0}.kCmkOe{position:relative}.ID6Z3b{background-image:url(https://www.gstatic.com/search_trustx/visibility_off_icon_p0-7d897bf44bafe5436baa9009e8716337.png);background-repeat:no-repeat;background-position:center;background-size:20px}.kCmkOe{width:162px;height:140px;line-height:140px;overflow:'hidden';text-align:center}.DS1iW{text-align:center;margin:auto;vertical-align:middle;max-width:162px;max-height:140px}.AlD19d{padding-top:2px;padding-bottom:8px;}.fYyStc{word-break:break-word}.ynsChf{display:block;white-space:nowrap;overflow:hidden;text-overflow:ellipsis}.Fj3V3b{color:#1967d2;font-size:14px;line-height:20px}.FrIlee{color:#202124;font-size:11px;line-height:16px}.F9iS2e{color:#70757a;font-size:11px;line-height:16px}.WMQ2Le{color:#70757a;font-size:12px;line-height:16px}.x3G5ab{color:#202124;font-size:12px;line-height:16px}.fuLhoc{color:#1967d2;font-size:16px;line-height:20px}.epoveb{font-size:24px;line-height:28px;font-weight:400;color:#202124}.dXDvrc{color:#0d652d;font-size:14px;line-height:20px;word-wrap:break-word}.dloBPe{font-weight:bold}.YVIcad{color:#70757a}.JkVVdd{color:#ea4335}.oXZRFd{color:#ea4335}.MQHtg{color:#fbbc04}.pyMRrb{color:#1e8e3e}.EtTZid{color:#1e8e3e}.M3vVJe{color:#1967d2}.qXLe6d{display:block}.NHQNef{font-style:italic}.Cb8Z7c{white-space:pre}a.ZWRArf{text-decoration:none}a .CVA68e:hover{text-decoration:underline}</style><div class=\"n692Zd\"><div class=\"BnJWBc\"><a class=\"lXLRf\" href=\"/?sca_esv=588279375&amp;bih=651&amp;biw=1366&amp;rlz=1C1RXQR_enIN1082IN1082&amp;output=images&amp;ie=UTF-8&amp;tbm=isch&amp;sa=X&amp;ved=0ahUKEwiB0bK3j_qCAxWDyDgGHbVEDAIQPAgC\"><img alt=\"Google\" class=\"kgJEQe\" src=\"/images/branding/searchlogo/1x/googlelogo_desk_heirloom_color_150x55dp.gif\"/></a></div><div class=\"FbhRzb\"><form action=\"/search\"><input name=\"sca_esv\" type=\"hidden\" value=\"588279375\"/><input name=\"bih\" type=\"hidden\" value=\"651\"/><input name=\"biw\" type=\"hidden\" value=\"1366\"/><input name=\"rlz\" type=\"hidden\" value=\"1C1RXQR_enIN1082IN1082\"/><input name=\"ie\" type=\"hidden\" value=\"ISO-8859-1\"/><input name=\"tbm\" type=\"hidden\" value=\"isch\"/><input name=\"oq\" type=\"hidden\"/><input name=\"aqs\" type=\"hidden\"/><table class=\"cvifge\"><tr><td class=\"O4cRJf\"><input class=\"MhzMZd\" name=\"q\" type=\"text\" value=\"suresh raina\"/></td><td class=\"O1ePr\"><input class=\"xB0fq\" type=\"submit\" value=\"Search\"/></td></tr></table></form></div><div class=\"M7pB2\"><table class=\"euZec\"><tbody><tr><td><a class=\"CsQyDc\" href=\"/search?q=suresh+raina&amp;sca_esv=588279375&amp;bih=651&amp;biw=1366&amp;rlz=1C1RXQR_enIN1082IN1082&amp;ie=UTF-8&amp;source=lnms&amp;sa=X&amp;ved=0ahUKEwiB0bK3j_qCAxWDyDgGHbVEDAIQ_AUIBCgA\">ALL</a></td><td><a class=\"CsQyDc\" href=\"/search?q=suresh+raina&amp;sca_esv=588279375&amp;bih=651&amp;biw=1366&amp;rlz=1C1RXQR_enIN1082IN1082&amp;ie=UTF-8&amp;tbm=nws&amp;source=lnms&amp;sa=X&amp;ved=0ahUKEwiB0bK3j_qCAxWDyDgGHbVEDAIQ_AUIBSgB\">NEWS</a></td><td class=\"EY24We\"><span class=\"QIqI7\">IMAGES</span></td><td><a class=\"CsQyDc\" href=\"/search?q=suresh+raina&amp;sca_esv=588279375&amp;bih=651&amp;biw=1366&amp;rlz=1C1RXQR_enIN1082IN1082&amp;ie=UTF-8&amp;tbm=vid&amp;source=lnms&amp;sa=X&amp;ved=0ahUKEwiB0bK3j_qCAxWDyDgGHbVEDAIQ_AUIBygD\">VIDEOS</a></td></tr></tbody></table></div></div><div class=\"X6ZCif\"><a class=\"TwVfHd\" href=\"/search?sca_esv=588279375&amp;bih=651&amp;biw=1366&amp;rlz=1C1RXQR_enIN1082IN1082&amp;ie=UTF-8&amp;tbm=isch&amp;q=suresh+raina&amp;chips=q:suresh+raina,g_1:wallpaper&amp;sa=X&amp;ved=0ahUKEwiB0bK3j_qCAxWDyDgGHbVEDAIQ4lYICygA\">wallpaper</a><a class=\"TwVfHd\" href=\"/search?sca_esv=588279375&amp;bih=651&amp;biw=1366&amp;rlz=1C1RXQR_enIN1082IN1082&amp;ie=UTF-8&amp;tbm=isch&amp;q=suresh+raina&amp;chips=q:suresh+raina,g_1:priyanka+chaudhary&amp;sa=X&amp;ved=0ahUKEwiB0bK3j_qCAxWDyDgGHbVEDAIQ4lYIDCgB\">priyanka chaudhary</a><a class=\"TwVfHd\" href=\"/search?sca_esv=588279375&amp;bih=651&amp;biw=1366&amp;rlz=1C1RXQR_enIN1082IN1082&amp;ie=UTF-8&amp;tbm=isch&amp;q=suresh+raina&amp;chips=q:suresh+raina,g_1:style&amp;sa=X&amp;ved=0ahUKEwiB0bK3j_qCAxWDyDgGHbVEDAIQ4lYIDSgC\">style</a><a class=\"TwVfHd\" href=\"/search?sca_esv=588279375&amp;bih=651&amp;biw=1366&amp;rlz=1C1RXQR_enIN1082IN1082&amp;ie=UTF-8&amp;tbm=isch&amp;q=suresh+raina&amp;chips=q:suresh+raina,g_1:csk&amp;sa=X&amp;ved=0ahUKEwiB0bK3j_qCAxWDyDgGHbVEDAIQ4lYIDigD\">csk</a><a class=\"TwVfHd\" href=\"/search?sca_esv=588279375&amp;bih=651&amp;biw=1366&amp;rlz=1C1RXQR_enIN1082IN1082&amp;ie=UTF-8&amp;tbm=isch&amp;q=suresh+raina&amp;chips=q:suresh+raina,g_1:batting&amp;sa=X&amp;ved=0ahUKEwiB0bK3j_qCAxWDyDgGHbVEDAIQ4lYIDygE\">batting</a><a class=\"TwVfHd\" href=\"/search?sca_esv=588279375&amp;bih=651&amp;biw=1366&amp;rlz=1C1RXQR_enIN1082IN1082&amp;ie=UTF-8&amp;tbm=isch&amp;q=suresh+raina&amp;chips=q:suresh+raina,g_1:family&amp;sa=X&amp;ved=0ahUKEwiB0bK3j_qCAxWDyDgGHbVEDAIQ4lYIECgF\">family</a><a class=\"TwVfHd\" href=\"/search?sca_esv=588279375&amp;bih=651&amp;biw=1366&amp;rlz=1C1RXQR_enIN1082IN1082&amp;ie=UTF-8&amp;tbm=isch&amp;q=suresh+raina&amp;chips=q:suresh+raina,g_1:dhoni&amp;sa=X&amp;ved=0ahUKEwiB0bK3j_qCAxWDyDgGHbVEDAIQ4lYIESgG\">dhoni</a><a class=\"TwVfHd\" href=\"/search?sca_esv=588279375&amp;bih=651&amp;biw=1366&amp;rlz=1C1RXQR_enIN1082IN1082&amp;ie=UTF-8&amp;tbm=isch&amp;q=suresh+raina&amp;chips=q:suresh+raina,g_1:hairstyle&amp;sa=X&amp;ved=0ahUKEwiB0bK3j_qCAxWDyDgGHbVEDAIQ4lYIEigH\">hairstyle</a><a class=\"TwVfHd\" href=\"/search?sca_esv=588279375&amp;bih=651&amp;biw=1366&amp;rlz=1C1RXQR_enIN1082IN1082&amp;ie=UTF-8&amp;tbm=isch&amp;q=suresh+raina&amp;chips=q:suresh+raina,g_1:stylish&amp;sa=X&amp;ved=0ahUKEwiB0bK3j_qCAxWDyDgGHbVEDAIQ4lYIEygI\">stylish</a><a class=\"TwVfHd\" href=\"/search?sca_esv=588279375&amp;bih=651&amp;biw=1366&amp;rlz=1C1RXQR_enIN1082IN1082&amp;ie=UTF-8&amp;tbm=isch&amp;q=suresh+raina&amp;chips=q:suresh+raina,g_1:daughter&amp;sa=X&amp;ved=0ahUKEwiB0bK3j_qCAxWDyDgGHbVEDAIQ4lYIFCgJ\">daughter</a></div><div><table class=\"GpQGbf\"><tr><td align=\"center\" class=\"e3goi\"><div class=\"jjVJ4e\"> <div> <div class=\"lIMUZd\"><div><table class=\"RntSmf\"><tr><td><a href=\"/url?q=https://www.mensxp.com/ampstories/sports/cricket/106121-suresh-raina-net-worth-most-expensive-things-cars-mansion.html&amp;sa=U&amp;ved=2ahUKEwiB0bK3j_qCAxWDyDgGHbVEDAIQqoUBegQIAhAB&amp;usg=AOvVaw0IJlwtw7WD2x-4OOw10-my\"><div class=\"kCmkOe\"><img alt=\"\" class=\"DS1iW\" src=\"https://encrypted-tbn0.gstatic.com/images?q=tbn:ANd9GcSRbFmFpsQkNSZAQyyGy-HwUWJMSekZ14Kk2gwDkvjSHPUnd_nbzd1JH2DTWA&amp;s\"/></div></a></td></tr><tr><td><a href=\"/url?q=https://www.mensxp.com/ampstories/sports/cricket/106121-suresh-raina-net-worth-most-expensive-things-cars-mansion.html&amp;sa=U&amp;ved=2ahUKEwiB0bK3j_qCAxWDyDgGHbVEDAIQr4kDegQIAhAC&amp;usg=AOvVaw3Q2JEScYzbHWd2IREo3-eQ\"><div class=\"AlD19d\"> <span class=\"qXLe6d x3G5ab\"> <span class=\"fYyStc\">5 Incredibly Expensive...</span> </span> <span class=\"qXLe6d F9iS2e\"> <span class=\"fYyStc\">www.mensxp.com</span> </span> </div></a></td></tr></table></div></div> </div> </div></td><td align=\"center\" class=\"e3goi\"><div class=\"jjVJ4e\"> <div> <div class=\"lIMUZd\"><div><table class=\"RntSmf\"><tr><td><a href=\"/url?q=https://www.cricbuzz.com/profiles/413/suresh-raina&amp;sa=U&amp;ved=2ahUKEwiB0bK3j_qCAxWDyDgGHbVEDAIQqoUBegQIEhAB&amp;usg=AOvVaw2Tilr7tzHowW9tzepMs6-b\"><div class=\"kCmkOe\"><img alt=\"\" class=\"DS1iW\" src=\"https://encrypted-tbn0.gstatic.com/images?q=tbn:ANd9GcQHjCvM-dPVKpDu59h-VyiSCY5goWCXKplxybBvpYLaVAgpoVeISlNIHIsCO6E&amp;s\"/></div></a></td></tr><tr><td><a href=\"/url?q=https://www.cricbuzz.com/profiles/413/suresh-raina&amp;sa=U&amp;ved=2ahUKEwiB0bK3j_qCAxWDyDgGHbVEDAIQr4kDegQIEhAC&amp;usg=AOvVaw1Y4JXax5VOlW6ORrby32kc\"><div class=\"AlD19d\"> <span class=\"qXLe6d x3G5ab\"> <span class=\"fYyStc\">Suresh Raina Profile - ICC...</span> </span> <span class=\"qXLe6d F9iS2e\"> <span class=\"fYyStc\">www.cricbuzz.com</span> </span> </div></a></td></tr></table></div></div> </div> </div></td><td align=\"center\" class=\"e3goi\"><div class=\"jjVJ4e\"> <div> <div class=\"lIMUZd\"><div><table class=\"RntSmf\"><tr><td><a href=\"/url?q=https://sports.ndtv.com/webstories/sports/suresh-rainas-top-records-in-ipl-international-cricket-896&amp;sa=U&amp;ved=2ahUKEwiB0bK3j_qCAxWDyDgGHbVEDAIQqoUBegQIExAB&amp;usg=AOvVaw0-ds5G-TGuc2wafymzUKa2\"><div class=\"kCmkOe\"><img alt=\"\" class=\"DS1iW\" src=\"https://encrypted-tbn0.gstatic.com/images?q=tbn:ANd9GcRi2aGN5Ejx_x-8hVAZ58RTc7iMYgZfzHYO7f6CREzEmlrQn52jY5rHDrPZRQ&amp;s\"/></div></a></td></tr><tr><td><a href=\"/url?q=https://sports.ndtv.com/webstories/sports/suresh-rainas-top-records-in-ipl-international-cricket-896&amp;sa=U&amp;ved=2ahUKEwiB0bK3j_qCAxWDyDgGHbVEDAIQr4kDegQIExAC&amp;usg=AOvVaw1ibfsT0kvaN1iYGDhjS_FD\"><div class=\"AlD19d\"> <span class=\"qXLe6d x3G5ab\"> <span class=\"fYyStc\">Suresh Raina's Top Records...</span> </span> <span class=\"qXLe6d F9iS2e\"> <span class=\"fYyStc\">sports.ndtv.com</span> </span> </div></a></td></tr></table></div></div> </div> </div></td><td align=\"center\" class=\"e3goi\"><div class=\"jjVJ4e\"> <div> <div class=\"lIMUZd\"><div><table class=\"RntSmf\"><tr><td><a href=\"/url?q=https://twitter.com/ImRaina&amp;sa=U&amp;ved=2ahUKEwiB0bK3j_qCAxWDyDgGHbVEDAIQqoUBegQIDhAB&amp;usg=AOvVaw20YcRyYuwXWt3afrLgj0_e\"><div class=\"kCmkOe\"><img alt=\"\" class=\"DS1iW\" src=\"https://encrypted-tbn0.gstatic.com/images?q=tbn:ANd9GcQlJkwteO3PpyplBt-c8kANtpfv_8Pz99QHB4QtaFON4gsCBawpTgY0xJFOHm0&amp;s\"/></div></a></td></tr><tr><td><a href=\"/url?q=https://twitter.com/ImRaina&amp;sa=U&amp;ved=2ahUKEwiB0bK3j_qCAxWDyDgGHbVEDAIQr4kDegQIDhAC&amp;usg=AOvVaw1nBNoXhoAkNaCTSJBfwbkb\"><div class=\"AlD19d\"> <span class=\"qXLe6d x3G5ab\"> <span class=\"fYyStc\">Suresh Raina🇮🇳 (@ImRaina)...</span> </span> <span class=\"qXLe6d F9iS2e\"> <span class=\"fYyStc\">twitter.com</span> </span> </div></a></td></tr></table></div></div> </div> </div></td></tr><tr><td align=\"center\" class=\"e3goi\"><div class=\"jjVJ4e\"> <div> <div class=\"lIMUZd\"><div><table class=\"RntSmf\"><tr><td><a href=\"/url?q=https://caughtatpoint.com/2018/01/30/suresh-raina-comeback-team-india/&amp;sa=U&amp;ved=2ahUKEwiB0bK3j_qCAxWDyDgGHbVEDAIQqoUBegQIDxAB&amp;usg=AOvVaw0Sx73bgu7trioAcPPmF0E_\"><div class=\"kCmkOe\"><img alt=\"\" class=\"DS1iW\" src=\"https://encrypted-tbn0.gstatic.com/images?q=tbn:ANd9GcTpwOeyKpExL25z2Uo30GC04ek6j9Jzd6zR3wGgJET80b_JDwPoc2yPU1IZSUo&amp;s\"/></div></a></td></tr><tr><td><a href=\"/url?q=https://caughtatpoint.com/2018/01/30/suresh-raina-comeback-team-india/&amp;sa=U&amp;ved=2ahUKEwiB0bK3j_qCAxWDyDgGHbVEDAIQr4kDegQIDxAC&amp;usg=AOvVaw2gyNiSIRElUwt6jitP_33N\"><div class=\"AlD19d\"> <span class=\"qXLe6d x3G5ab\"> <span class=\"fYyStc\">Why India are better off...</span> </span> <span class=\"qXLe6d F9iS2e\"> <span class=\"fYyStc\">caughtatpoint.com</span> </span> </div></a></td></tr></table></div></div> </div> </div></td><td align=\"center\" class=\"e3goi\"><div class=\"jjVJ4e\"> <div> <div class=\"lIMUZd\"><div><table class=\"RntSmf\"><tr><td><a href=\"/url?q=https://en.wikipedia.org/wiki/Suresh_Raina&amp;sa=U&amp;ved=2ahUKEwiB0bK3j_qCAxWDyDgGHbVEDAIQqoUBegQIEBAB&amp;usg=AOvVaw2x42zwYXJ5qy1n9sR12cpq\"><div class=\"kCmkOe\"><img alt=\"\" class=\"DS1iW\" src=\"https://encrypted-tbn0.gstatic.com/images?q=tbn:ANd9GcQMa36427poIdUNFa35gRQ0ukN7pKHYVLLpZIh7swyUmP26-S_qm3JdOpBHKtQ&amp;s\"/></div></a></td></tr><tr><td><a href=\"/url?q=https://en.wikipedia.org/wiki/Suresh_Raina&amp;sa=U&amp;ved=2ahUKEwiB0bK3j_qCAxWDyDgGHbVEDAIQr4kDegQIEBAC&amp;usg=AOvVaw0ne7jjUcO3PvFfvrnLkpd2\"><div class=\"AlD19d\"> <span class=\"qXLe6d x3G5ab\"> <span class=\"fYyStc\">Suresh Raina - Wikipedia</span> </span> <span class=\"qXLe6d F9iS2e\"> <span class=\"fYyStc\">en.wikipedia.org</span> </span> </div></a></td></tr></table></div></div> </div> </div></td><td align=\"center\" class=\"e3goi\"><div class=\"jjVJ4e\"> <div> <div class=\"lIMUZd\"><div><table class=\"RntSmf\"><tr><td><a href=\"/url?q=https://www.bollywoodshaadis.com/articles/mr-ipl-suresh-raina-announces-retirement-from-all-forms-of-cricket-wife-priyanka-gets-emotional-34936&amp;sa=U&amp;ved=2ahUKEwiB0bK3j_qCAxWDyDgGHbVEDAIQqoUBegQICRAB&amp;usg=AOvVaw2kBTvewmaJ2RLNUvAWXDd4\"><div class=\"kCmkOe\"><img alt=\"\" class=\"DS1iW\" src=\"https://encrypted-tbn0.gstatic.com/images?q=tbn:ANd9GcQmsqcL3-_og8ZGkZZQReXEhi8to0jkQG2WCVV_j-75HckDrdnV58CrrMVtvKc&amp;s\"/></div></a></td></tr><tr><td><a href=\"/url?q=https://www.bollywoodshaadis.com/articles/mr-ipl-suresh-raina-announces-retirement-from-all-forms-of-cricket-wife-priyanka-gets-emotional-34936&amp;sa=U&amp;ved=2ahUKEwiB0bK3j_qCAxWDyDgGHbVEDAIQr4kDegQICRAC&amp;usg=AOvVaw3noaXKYRPPA8fKH5rK9oJl\"><div class=\"AlD19d\"> <span class=\"qXLe6d x3G5ab\"> <span class=\"fYyStc\">Mr. IPL', Suresh Raina...</span> </span> <span class=\"qXLe6d F9iS2e\"> <span class=\"fYyStc\">www.bollywoodshaadis.com</span> </span> </div></a></td></tr></table></div></div> </div> </div></td><td align=\"center\" class=\"e3goi\"><div class=\"jjVJ4e\"> <div> <div class=\"lIMUZd\"><div><table class=\"RntSmf\"><tr><td><a href=\"/url?q=https://m.timesofindia.com/sports/cricket/ipl/top-stories/suresh-raina-to-miss-entire-ipl-2020-due-to-personal-reasons/articleshow/77817739.cms&amp;sa=U&amp;ved=2ahUKEwiB0bK3j_qCAxWDyDgGHbVEDAIQqoUBegQIDBAB&amp;usg=AOvVaw3g6QfI1hqBJXw3Lw7-70bo\"><div class=\"kCmkOe\"><img alt=\"\" class=\"DS1iW\" src=\"https://encrypted-tbn0.gstatic.com/images?q=tbn:ANd9GcRmqnmBeNI2anwDU32r6G63rdjuatewRA91hztiYR8GixTPs15Glmw7NEv9vA&amp;s\"/></div></a></td></tr><tr><td><a href=\"/url?q=https://m.timesofindia.com/sports/cricket/ipl/top-stories/suresh-raina-to-miss-entire-ipl-2020-due-to-personal-reasons/articleshow/77817739.cms&amp;sa=U&amp;ved=2ahUKEwiB0bK3j_qCAxWDyDgGHbVEDAIQr4kDegQIDBAC&amp;usg=AOvVaw0OlOhowidyfnZFFedPPvvB\"><div class=\"AlD19d\"> <span class=\"qXLe6d x3G5ab\"> <span class=\"fYyStc\">Suresh Raina to miss entire...</span> </span> <span class=\"qXLe6d F9iS2e\"> <span class=\"fYyStc\">m.timesofindia.com</span> </span> </div></a></td></tr></table></div></div> </div> </div></td></tr><tr><td align=\"center\" class=\"e3goi\"><div class=\"jjVJ4e\"> <div> <div class=\"lIMUZd\"><div><table class=\"RntSmf\"><tr><td><a href=\"/url?q=https://www.flipkart.com/suresh-raina-indian-cricket-player-art-effect-poster-03-18inchx12inch-photographic-paper/p/itmabea7beee178c&amp;sa=U&amp;ved=2ahUKEwiB0bK3j_qCAxWDyDgGHbVEDAIQqoUBegQICxAB&amp;usg=AOvVaw3P1CdEdzSZ9T1iC-nzx797\"><div class=\"kCmkOe\"><img alt=\"\" class=\"DS1iW\" src=\"https://encrypted-tbn0.gstatic.com/images?q=tbn:ANd9GcQTogOKsumb4Dlr5q9ZSLn9tYrLd_M1DQFDbIa1B8ynFfc_06AZJCj42VitTFU&amp;s\"/></div></a></td></tr><tr><td><a href=\"/url?q=https://www.flipkart.com/suresh-raina-indian-cricket-player-art-effect-poster-03-18inchx12inch-photographic-paper/p/itmabea7beee178c&amp;sa=U&amp;ved=2ahUKEwiB0bK3j_qCAxWDyDgGHbVEDAIQr4kDegQICxAC&amp;usg=AOvVaw32O1_MXCQ6oo-6uXDTUQH-\"><div class=\"AlD19d\"> <span class=\"qXLe6d x3G5ab\"> <span class=\"fYyStc\">Suresh Raina Indian Cricket...</span> </span> <span class=\"qXLe6d F9iS2e\"> <span class=\"fYyStc\">www.flipkart.com</span> </span> </div></a></td></tr></table></div></div> </div> </div></td><td align=\"center\" class=\"e3goi\"><div class=\"jjVJ4e\"> <div> <div class=\"lIMUZd\"><div><table class=\"RntSmf\"><tr><td><a href=\"/url?q=https://thesportsrush.com/suresh-raina-optimistic-about-donning-india-colours-again/&amp;sa=U&amp;ved=2ahUKEwiB0bK3j_qCAxWDyDgGHbVEDAIQqoUBegQIDRAB&amp;usg=AOvVaw0oXvMfVaLkYirePUpXAsty\"><div class=\"kCmkOe\"><img alt=\"\" class=\"DS1iW\" src=\"https://encrypted-tbn0.gstatic.com/images?q=tbn:ANd9GcTWyplXQ_UR_QnfeA1A5Mk83qlqyNPwYgawvwf_8BCBz0EtmPduT5OgYoJckLM&amp;s\"/></div></a></td></tr><tr><td><a href=\"/url?q=https://thesportsrush.com/suresh-raina-optimistic-about-donning-india-colours-again/&amp;sa=U&amp;ved=2ahUKEwiB0bK3j_qCAxWDyDgGHbVEDAIQr4kDegQIDRAC&amp;usg=AOvVaw3357Q4LLyW8xyAjTclwZU2\"><div class=\"AlD19d\"> <span class=\"qXLe6d x3G5ab\"> <span class=\"fYyStc\">Suresh Raina optimistic...</span> </span> <span class=\"qXLe6d F9iS2e\"> <span class=\"fYyStc\">thesportsrush.com</span> </span> </div></a></td></tr></table></div></div> </div> </div></td><td align=\"center\" class=\"e3goi\"><div class=\"jjVJ4e\"> <div> <div class=\"lIMUZd\"><div><table class=\"RntSmf\"><tr><td><a href=\"/url?q=https://www.espncricinfo.com/cricketers/suresh-raina-33335&amp;sa=U&amp;ved=2ahUKEwiB0bK3j_qCAxWDyDgGHbVEDAIQqoUBegQIChAB&amp;usg=AOvVaw0bnkoV19jY24ZHBBkwctXc\"><div class=\"kCmkOe\"><img alt=\"\" class=\"DS1iW\" src=\"https://encrypted-tbn0.gstatic.com/images?q=tbn:ANd9GcSeWs8P0JFBqwIgVxRny-pCPLQjdX2sjL55s2aYvAjjgopda61xkq31bNezNw&amp;s\"/></div></a></td></tr><tr><td><a href=\"/url?q=https://www.espncricinfo.com/cricketers/suresh-raina-33335&amp;sa=U&amp;ved=2ahUKEwiB0bK3j_qCAxWDyDgGHbVEDAIQr4kDegQIChAC&amp;usg=AOvVaw3rThY8p-N3s26SLn8gdIdJ\"><div class=\"AlD19d\"> <span class=\"qXLe6d x3G5ab\"> <span class=\"fYyStc\">Suresh Raina Profile -...</span> </span> <span class=\"qXLe6d F9iS2e\"> <span class=\"fYyStc\">www.espncricinfo.com</span> </span> </div></a></td></tr></table></div></div> </div> </div></td><td align=\"center\" class=\"e3goi\"><div class=\"jjVJ4e\"> <div> <div class=\"lIMUZd\"><div><table class=\"RntSmf\"><tr><td><a href=\"/url?q=https://www.indiaglitz.com/suresh-raina-mr-ipl-huge-announcement-emotional-note-retirement-from-ipl-international-latest-update-tamil-news-323168&amp;sa=U&amp;ved=2ahUKEwiB0bK3j_qCAxWDyDgGHbVEDAIQqoUBegQIERAB&amp;usg=AOvVaw0YpZDMlIQ4zqmuuQ22ggoh\"><div class=\"kCmkOe\"><img alt=\"\" class=\"DS1iW\" src=\"https://encrypted-tbn0.gstatic.com/images?q=tbn:ANd9GcRVG4RTMB3H_PdS16n61DSrKLwgNd89ad0DbqF7XHEJovZ46fuIhlaHEMIZ3IM&amp;s\"/></div></a></td></tr><tr><td><a href=\"/url?q=https://www.indiaglitz.com/suresh-raina-mr-ipl-huge-announcement-emotional-note-retirement-from-ipl-international-latest-update-tamil-news-323168&amp;sa=U&amp;ved=2ahUKEwiB0bK3j_qCAxWDyDgGHbVEDAIQr4kDegQIERAC&amp;usg=AOvVaw2ZT4Hizrt63ydD44SwuAQJ\"><div class=\"AlD19d\"> <span class=\"qXLe6d x3G5ab\"> <span class=\"fYyStc\">Chinna Thala &amp; Mr. IPL...</span> </span> <span class=\"qXLe6d F9iS2e\"> <span class=\"fYyStc\">www.indiaglitz.com</span> </span> </div></a></td></tr></table></div></div> </div> </div></td></tr><tr><td align=\"center\" class=\"e3goi\"><div class=\"jjVJ4e\"> <div> <div class=\"lIMUZd\"><div><table class=\"RntSmf\"><tr><td><a href=\"/url?q=https://www.insidesport.in/suresh-raina-ipl-record-csk-legend-suresh-raina-calls-it-quits-from-ipl-check-out-the-southpaws-big-records-in-ipl/&amp;sa=U&amp;ved=2ahUKEwiB0bK3j_qCAxWDyDgGHbVEDAIQqoUBegQIABAB&amp;usg=AOvVaw1wJGJ_VfgNQquyya7LGbjx\"><div class=\"kCmkOe\"><img alt=\"\" class=\"DS1iW\" src=\"https://encrypted-tbn0.gstatic.com/images?q=tbn:ANd9GcR0EccVGkZPisUQVkd9qZ9GRHrQJVXsIXhZ9bb7Tl-TuNWwYcQUvtFBHYwjKVU&amp;s\"/></div></a></td></tr><tr><td><a href=\"/url?q=https://www.insidesport.in/suresh-raina-ipl-record-csk-legend-suresh-raina-calls-it-quits-from-ipl-check-out-the-southpaws-big-records-in-ipl/&amp;sa=U&amp;ved=2ahUKEwiB0bK3j_qCAxWDyDgGHbVEDAIQr4kDegQIABAC&amp;usg=AOvVaw3jD593pr_QC80HEAL5lbtz\"><div class=\"AlD19d\"> <span class=\"qXLe6d x3G5ab\"> <span class=\"fYyStc\">Suresh Raina IPL Record:...</span> </span> <span class=\"qXLe6d F9iS2e\"> <span class=\"fYyStc\">www.insidesport.in</span> </span> </div></a></td></tr></table></div></div> </div> </div></td><td align=\"center\" class=\"e3goi\"><div class=\"jjVJ4e\"> <div> <div class=\"lIMUZd\"><div><table class=\"RntSmf\"><tr><td><a href=\"/url?q=https://wallpapers.com/wallpapers/indian-cricket-suresh-raina-cf7326ktm81ey0ha.html&amp;sa=U&amp;ved=2ahUKEwiB0bK3j_qCAxWDyDgGHbVEDAIQqoUBegQIAxAB&amp;usg=AOvVaw16tsqt6jhxonAKdRyKQzUm\"><div class=\"kCmkOe\"><img alt=\"\" class=\"DS1iW\" src=\"https://encrypted-tbn0.gstatic.com/images?q=tbn:ANd9GcSx3Ws9wxWZGwna_M8F44INDme67zHhQPE1TvSCBpmP670yzzNOXTB7Cdw6rQ&amp;s\"/></div></a></td></tr><tr><td><a href=\"/url?q=https://wallpapers.com/wallpapers/indian-cricket-suresh-raina-cf7326ktm81ey0ha.html&amp;sa=U&amp;ved=2ahUKEwiB0bK3j_qCAxWDyDgGHbVEDAIQr4kDegQIAxAC&amp;usg=AOvVaw0N0ddvCnlnNhUbPl5BBgSA\"><div class=\"AlD19d\"> <span class=\"qXLe6d x3G5ab\"> <span class=\"fYyStc\">Download Indian Cricket...</span> </span> <span class=\"qXLe6d F9iS2e\"> <span class=\"fYyStc\">wallpapers.com</span> </span> </div></a></td></tr></table></div></div> </div> </div></td><td align=\"center\" class=\"e3goi\"><div class=\"jjVJ4e\"> <div> <div class=\"lIMUZd\"><div><table class=\"RntSmf\"><tr><td><a href=\"/url?q=https://www.forbesindia.com/article/forbes-lifes/cricketer-suresh-raina-on-entrepreneurship-and-lifes-postretirement/64211/1&amp;sa=U&amp;ved=2ahUKEwiB0bK3j_qCAxWDyDgGHbVEDAIQqoUBegQIBxAB&amp;usg=AOvVaw2ak6gCPZKNR_rzZKpuLSQp\"><div class=\"kCmkOe\"><img alt=\"\" class=\"DS1iW\" src=\"https://encrypted-tbn0.gstatic.com/images?q=tbn:ANd9GcSS1cOiVh9N9OmsCRHZidTVeCYlqTXsSHmYMo3e6C9d1XP1DSWgqP70scXEqTQ&amp;s\"/></div></a></td></tr><tr><td><a href=\"/url?q=https://www.forbesindia.com/article/forbes-lifes/cricketer-suresh-raina-on-entrepreneurship-and-lifes-postretirement/64211/1&amp;sa=U&amp;ved=2ahUKEwiB0bK3j_qCAxWDyDgGHbVEDAIQr4kDegQIBxAC&amp;usg=AOvVaw2oYIjyFxbRAW1kpckKU52_\"><div class=\"AlD19d\"> <span class=\"qXLe6d x3G5ab\"> <span class=\"fYyStc\">Cricketer Suresh Raina On...</span> </span> <span class=\"qXLe6d F9iS2e\"> <span class=\"fYyStc\">www.forbesindia.com</span> </span> </div></a></td></tr></table></div></div> </div> </div></td><td align=\"center\" class=\"e3goi\"><div class=\"jjVJ4e\"> <div> <div class=\"lIMUZd\"><div><table class=\"RntSmf\"><tr><td><a href=\"/url?q=https://www.shortpedia.com/en-in/article/suresh-raina-one-of-the-best-t20-batsmen-in-the-world-1620293972&amp;sa=U&amp;ved=2ahUKEwiB0bK3j_qCAxWDyDgGHbVEDAIQqoUBegQIARAB&amp;usg=AOvVaw0IbDFgF80qrMOEazWDaDkB\"><div class=\"kCmkOe\"><img alt=\"\" class=\"DS1iW\" src=\"https://encrypted-tbn0.gstatic.com/images?q=tbn:ANd9GcS5yotQu0owI-7QgGN_rrTsZquWJ6VhzQdmqqeY4V04pK0B7cceVnpAthg1Mw&amp;s\"/></div></a></td></tr><tr><td><a href=\"/url?q=https://www.shortpedia.com/en-in/article/suresh-raina-one-of-the-best-t20-batsmen-in-the-world-1620293972&amp;sa=U&amp;ved=2ahUKEwiB0bK3j_qCAxWDyDgGHbVEDAIQr4kDegQIARAC&amp;usg=AOvVaw0yHR8TXhg7yo2VVik6Zhv8\"><div class=\"AlD19d\"> <span class=\"qXLe6d x3G5ab\"> <span class=\"fYyStc\">Suresh Raina: Bio, Career,...</span> </span> <span class=\"qXLe6d F9iS2e\"> <span class=\"fYyStc\">www.shortpedia.com</span> </span> </div></a></td></tr></table></div></div> </div> </div></td></tr><tr><td align=\"center\" class=\"e3goi\"><div class=\"jjVJ4e\"> <div> <div class=\"lIMUZd\"><div><table class=\"RntSmf\"><tr><td><a href=\"/url?q=https://www.deccanherald.com/tags/suresh-raina&amp;sa=U&amp;ved=2ahUKEwiB0bK3j_qCAxWDyDgGHbVEDAIQqoUBegQIBhAB&amp;usg=AOvVaw0Sfx4HtSTZd5GqUPtieVOW\"><div class=\"kCmkOe\"><img alt=\"\" class=\"DS1iW\" src=\"https://encrypted-tbn0.gstatic.com/images?q=tbn:ANd9GcRGrsbjJbQpsWREeCW_WxnzUXPOEZMJhUy8OQXwIO6-3l8uBap2qxTAXE2WBls&amp;s\"/></div></a></td></tr><tr><td><a href=\"/url?q=https://www.deccanherald.com/tags/suresh-raina&amp;sa=U&amp;ved=2ahUKEwiB0bK3j_qCAxWDyDgGHbVEDAIQr4kDegQIBhAC&amp;usg=AOvVaw09_PDGAjMP6SWTOnml3sgq\"><div class=\"AlD19d\"> <span class=\"qXLe6d x3G5ab\"> <span class=\"fYyStc\">F5KUry0XAAArjgm.jpg?rect=0,...</span> </span> <span class=\"qXLe6d F9iS2e\"> <span class=\"fYyStc\">www.deccanherald.com</span> </span> </div></a></td></tr></table></div></div> </div> </div></td><td align=\"center\" class=\"e3goi\"><div class=\"jjVJ4e\"> <div> <div class=\"lIMUZd\"><div><table class=\"RntSmf\"><tr><td><a href=\"/url?q=https://www.iplt20.com/teams/chennai-super-kings/squad-details/14&amp;sa=U&amp;ved=2ahUKEwiB0bK3j_qCAxWDyDgGHbVEDAIQqoUBegQICBAB&amp;usg=AOvVaw2SL3Lv6jLtdZGs57b2YC08\"><div class=\"kCmkOe\"><img alt=\"\" class=\"DS1iW\" src=\"https://encrypted-tbn0.gstatic.com/images?q=tbn:ANd9GcRxA7RnjQVM4aS_3VbQZvU4y-_aIq80NaygzrZODAs4TbsqhZc8nr-Ro0kia9A&amp;s\"/></div></a></td></tr><tr><td><a href=\"/url?q=https://www.iplt20.com/teams/chennai-super-kings/squad-details/14&amp;sa=U&amp;ved=2ahUKEwiB0bK3j_qCAxWDyDgGHbVEDAIQr4kDegQICBAC&amp;usg=AOvVaw2SxvKNbO-XqXh244xre45s\"><div class=\"AlD19d\"> <span class=\"qXLe6d x3G5ab\"> <span class=\"fYyStc\">Mens Team | IPLT20</span> </span> <span class=\"qXLe6d F9iS2e\"> <span class=\"fYyStc\">www.iplt20.com</span> </span> </div></a></td></tr></table></div></div> </div> </div></td><td align=\"center\" class=\"e3goi\"><div class=\"jjVJ4e\"> <div> <div class=\"lIMUZd\"><div><table class=\"RntSmf\"><tr><td><a href=\"/url?q=https://twitter.com/CultRaina&amp;sa=U&amp;ved=2ahUKEwiB0bK3j_qCAxWDyDgGHbVEDAIQqoUBegQIBBAB&amp;usg=AOvVaw1j8HAkhfWYYkWKQGuTZvtX\"><div class=\"kCmkOe\"><img alt=\"\" class=\"DS1iW\" src=\"https://encrypted-tbn0.gstatic.com/images?q=tbn:ANd9GcQ79qWnL_nDu9mECMl5gFvur_P3Gto6VOyZdwydGxhdB_PstC6WQsNC-djheig&amp;s\"/></div></a></td></tr><tr><td><a href=\"/url?q=https://twitter.com/CultRaina&amp;sa=U&amp;ved=2ahUKEwiB0bK3j_qCAxWDyDgGHbVEDAIQr4kDegQIBBAC&amp;usg=AOvVaw0jZYdLS6wpFqSah865kGgi\"><div class=\"AlD19d\"> <span class=\"qXLe6d x3G5ab\"> <span class=\"fYyStc\">Suresh Raina FC™...</span> </span> <span class=\"qXLe6d F9iS2e\"> <span class=\"fYyStc\">twitter.com</span> </span> </div></a></td></tr></table></div></div> </div> </div></td><td align=\"center\" class=\"e3goi\"><div class=\"jjVJ4e\"> <div> <div class=\"lIMUZd\"><div><table class=\"RntSmf\"><tr><td><a href=\"/url?q=https://m.timesofindia.com/sports/cricket/ipl/web-stories/suresh-rainas-top-5-ipl-knocks/photostory/98754962.cms&amp;sa=U&amp;ved=2ahUKEwiB0bK3j_qCAxWDyDgGHbVEDAIQqoUBegQIBRAB&amp;usg=AOvVaw3LCuFob5iV0eXMYuRieFYT\"><div class=\"kCmkOe\"><img alt=\"\" class=\"DS1iW\" src=\"https://encrypted-tbn0.gstatic.com/images?q=tbn:ANd9GcQYg9lb3BWUpVaVU-lcLXJRX1-j0Qo_vnWF3qos86HmNOxDaFNhq-NiKUB0GA&amp;s\"/></div></a></td></tr><tr><td><a href=\"/url?q=https://m.timesofindia.com/sports/cricket/ipl/web-stories/suresh-rainas-top-5-ipl-knocks/photostory/98754962.cms&amp;sa=U&amp;ved=2ahUKEwiB0bK3j_qCAxWDyDgGHbVEDAIQr4kDegQIBRAC&amp;usg=AOvVaw3I1xsC7vJkglPTovhD-X_X\"><div class=\"AlD19d\"> <span class=\"qXLe6d x3G5ab\"> <span class=\"fYyStc\">Suresh Raina's top-5 IPL...</span> </span> <span class=\"qXLe6d F9iS2e\"> <span class=\"fYyStc\">m.timesofindia.com</span> </span> </div></a></td></tr></table></div></div> </div> </div></td></tr></table></div><table class=\"uZgmoc\"><tbody><td><a class=\"frGj1b\" href=\"/search?q=suresh+raina&amp;sca_esv=588279375&amp;bih=651&amp;biw=1366&amp;rlz=1C1RXQR_enIN1082IN1082&amp;ie=UTF-8&amp;tbm=isch&amp;ei=QAxwZYGxBIOR4-EPtYmxEA&amp;start=20&amp;sa=N\">Next &gt;</a></td></tbody></table><br/><div class=\"TuS8Ad\" data-ved=\"0ahUKEwiB0bK3j_qCAxWDyDgGHbVEDAIQpyoIUg\"><style>.VYM29{font-weight:bold}</style><div align=\"center\" class=\"HddGcc\"><span class=\"VYM29\">Bengaluru, Karnataka</span><span> - </span><span>From your IP address</span><span> - </span><a href=\"/url?q=https://support.google.com/websearch%3Fp%3Dws_settings_location%26hl%3Den-IN&amp;opi=89978449&amp;sa=U&amp;ved=0ahUKEwiB0bK3j_qCAxWDyDgGHbVEDAIQty4IUw&amp;usg=AOvVaw264bFNG7Pj4H6DxJ4EHNJM\">Learn more</a></div><div align=\"center\"><a class=\"rEM8G\" href=\"/url?q=https://accounts.google.com/ServiceLogin%3Fcontinue%3Dhttps://www.google.com/search%253Fq%253Dsuresh%252Braina%2526tbm%253Disch%2526ved%253D2ahUKEwjQn7efg_qCAxVNbmwGHVL-Az8Q2-cCegQIABAA%2526oq%253Delon%252Bmusk%2526gs_lcp%253DCgNpbWcQAzIECCMQJzINCAAQgAQQigUQQxCxAzIICAAQgAQQsQMyDQgAEIAEEIoFEEMQsQMyCAgAEIAEELEDMggIABCABBCxAzIKCAAQgAQQigUQQzIICAAQgAQQsQMyCAgAEIAEELEDMg0IABCABBCKBRBDELEDUABYAGCgBWgAcAB4AIABeYgBeZIBAzAuMZgBAKoBC2d3cy13aXotaW1nwAEB%2526sclient%253Dimg%2526ei%253DeP9vZdCDJM3cseMP0vyP-AM%2526bih%253D651%2526biw%253D1366%2526rlz%253D1C1RXQR_enIN1082IN1082%26hl%3Den&amp;opi=89978449&amp;sa=U&amp;ved=0ahUKEwiB0bK3j_qCAxWDyDgGHbVEDAIQxs8CCFQ&amp;usg=AOvVaw2jf0QEwx8bVMODVRiGriSA\">Sign in</a></div><div><table class=\"bookcf\"><tbody class=\"InWNIe\"><tr><td><a class=\"rEM8G\" href=\"https://www.google.com/preferences?hl=en&amp;sa=X&amp;ved=0ahUKEwiB0bK3j_qCAxWDyDgGHbVEDAIQv5YECFU\">Settings</a></td><td><a class=\"rEM8G\" href=\"https://www.google.com/intl/en_in/policies/privacy/\">Privacy</a></td><td><a class=\"rEM8G\" href=\"https://www.google.com/intl/en_in/policies/terms/\">Terms</a></td></tr></tbody></table></div></div><div> </div></body></html>"
      ]
     },
     "execution_count": 48,
     "metadata": {},
     "output_type": "execute_result"
    }
   ],
   "source": [
    "soup"
   ]
  },
  {
   "cell_type": "code",
   "execution_count": 49,
   "id": "415669e2-9f70-442c-9be2-4baa8b99d210",
   "metadata": {},
   "outputs": [
    {
     "data": {
      "text/plain": [
       "[<img alt=\"Google\" class=\"kgJEQe\" src=\"/images/branding/searchlogo/1x/googlelogo_desk_heirloom_color_150x55dp.gif\"/>,\n",
       " <img alt=\"\" class=\"DS1iW\" src=\"https://encrypted-tbn0.gstatic.com/images?q=tbn:ANd9GcSRbFmFpsQkNSZAQyyGy-HwUWJMSekZ14Kk2gwDkvjSHPUnd_nbzd1JH2DTWA&amp;s\"/>,\n",
       " <img alt=\"\" class=\"DS1iW\" src=\"https://encrypted-tbn0.gstatic.com/images?q=tbn:ANd9GcQHjCvM-dPVKpDu59h-VyiSCY5goWCXKplxybBvpYLaVAgpoVeISlNIHIsCO6E&amp;s\"/>,\n",
       " <img alt=\"\" class=\"DS1iW\" src=\"https://encrypted-tbn0.gstatic.com/images?q=tbn:ANd9GcRi2aGN5Ejx_x-8hVAZ58RTc7iMYgZfzHYO7f6CREzEmlrQn52jY5rHDrPZRQ&amp;s\"/>,\n",
       " <img alt=\"\" class=\"DS1iW\" src=\"https://encrypted-tbn0.gstatic.com/images?q=tbn:ANd9GcQlJkwteO3PpyplBt-c8kANtpfv_8Pz99QHB4QtaFON4gsCBawpTgY0xJFOHm0&amp;s\"/>,\n",
       " <img alt=\"\" class=\"DS1iW\" src=\"https://encrypted-tbn0.gstatic.com/images?q=tbn:ANd9GcTpwOeyKpExL25z2Uo30GC04ek6j9Jzd6zR3wGgJET80b_JDwPoc2yPU1IZSUo&amp;s\"/>,\n",
       " <img alt=\"\" class=\"DS1iW\" src=\"https://encrypted-tbn0.gstatic.com/images?q=tbn:ANd9GcQMa36427poIdUNFa35gRQ0ukN7pKHYVLLpZIh7swyUmP26-S_qm3JdOpBHKtQ&amp;s\"/>,\n",
       " <img alt=\"\" class=\"DS1iW\" src=\"https://encrypted-tbn0.gstatic.com/images?q=tbn:ANd9GcQmsqcL3-_og8ZGkZZQReXEhi8to0jkQG2WCVV_j-75HckDrdnV58CrrMVtvKc&amp;s\"/>,\n",
       " <img alt=\"\" class=\"DS1iW\" src=\"https://encrypted-tbn0.gstatic.com/images?q=tbn:ANd9GcRmqnmBeNI2anwDU32r6G63rdjuatewRA91hztiYR8GixTPs15Glmw7NEv9vA&amp;s\"/>,\n",
       " <img alt=\"\" class=\"DS1iW\" src=\"https://encrypted-tbn0.gstatic.com/images?q=tbn:ANd9GcQTogOKsumb4Dlr5q9ZSLn9tYrLd_M1DQFDbIa1B8ynFfc_06AZJCj42VitTFU&amp;s\"/>,\n",
       " <img alt=\"\" class=\"DS1iW\" src=\"https://encrypted-tbn0.gstatic.com/images?q=tbn:ANd9GcTWyplXQ_UR_QnfeA1A5Mk83qlqyNPwYgawvwf_8BCBz0EtmPduT5OgYoJckLM&amp;s\"/>,\n",
       " <img alt=\"\" class=\"DS1iW\" src=\"https://encrypted-tbn0.gstatic.com/images?q=tbn:ANd9GcSeWs8P0JFBqwIgVxRny-pCPLQjdX2sjL55s2aYvAjjgopda61xkq31bNezNw&amp;s\"/>,\n",
       " <img alt=\"\" class=\"DS1iW\" src=\"https://encrypted-tbn0.gstatic.com/images?q=tbn:ANd9GcRVG4RTMB3H_PdS16n61DSrKLwgNd89ad0DbqF7XHEJovZ46fuIhlaHEMIZ3IM&amp;s\"/>,\n",
       " <img alt=\"\" class=\"DS1iW\" src=\"https://encrypted-tbn0.gstatic.com/images?q=tbn:ANd9GcR0EccVGkZPisUQVkd9qZ9GRHrQJVXsIXhZ9bb7Tl-TuNWwYcQUvtFBHYwjKVU&amp;s\"/>,\n",
       " <img alt=\"\" class=\"DS1iW\" src=\"https://encrypted-tbn0.gstatic.com/images?q=tbn:ANd9GcSx3Ws9wxWZGwna_M8F44INDme67zHhQPE1TvSCBpmP670yzzNOXTB7Cdw6rQ&amp;s\"/>,\n",
       " <img alt=\"\" class=\"DS1iW\" src=\"https://encrypted-tbn0.gstatic.com/images?q=tbn:ANd9GcSS1cOiVh9N9OmsCRHZidTVeCYlqTXsSHmYMo3e6C9d1XP1DSWgqP70scXEqTQ&amp;s\"/>,\n",
       " <img alt=\"\" class=\"DS1iW\" src=\"https://encrypted-tbn0.gstatic.com/images?q=tbn:ANd9GcS5yotQu0owI-7QgGN_rrTsZquWJ6VhzQdmqqeY4V04pK0B7cceVnpAthg1Mw&amp;s\"/>,\n",
       " <img alt=\"\" class=\"DS1iW\" src=\"https://encrypted-tbn0.gstatic.com/images?q=tbn:ANd9GcRGrsbjJbQpsWREeCW_WxnzUXPOEZMJhUy8OQXwIO6-3l8uBap2qxTAXE2WBls&amp;s\"/>,\n",
       " <img alt=\"\" class=\"DS1iW\" src=\"https://encrypted-tbn0.gstatic.com/images?q=tbn:ANd9GcRxA7RnjQVM4aS_3VbQZvU4y-_aIq80NaygzrZODAs4TbsqhZc8nr-Ro0kia9A&amp;s\"/>,\n",
       " <img alt=\"\" class=\"DS1iW\" src=\"https://encrypted-tbn0.gstatic.com/images?q=tbn:ANd9GcQ79qWnL_nDu9mECMl5gFvur_P3Gto6VOyZdwydGxhdB_PstC6WQsNC-djheig&amp;s\"/>,\n",
       " <img alt=\"\" class=\"DS1iW\" src=\"https://encrypted-tbn0.gstatic.com/images?q=tbn:ANd9GcQYg9lb3BWUpVaVU-lcLXJRX1-j0Qo_vnWF3qos86HmNOxDaFNhq-NiKUB0GA&amp;s\"/>]"
      ]
     },
     "execution_count": 49,
     "metadata": {},
     "output_type": "execute_result"
    }
   ],
   "source": [
    "soup.find_all(\"img\")"
   ]
  },
  {
   "cell_type": "code",
   "execution_count": 50,
   "id": "48bf4128-42af-48cc-ada9-c4f789cfb6f8",
   "metadata": {},
   "outputs": [
    {
     "data": {
      "text/plain": [
       "<img alt=\"Google\" class=\"kgJEQe\" src=\"/images/branding/searchlogo/1x/googlelogo_desk_heirloom_color_150x55dp.gif\"/>"
      ]
     },
     "execution_count": 50,
     "metadata": {},
     "output_type": "execute_result"
    }
   ],
   "source": [
    "#to remove the 1st img which is actually not an image we assing soup.find_all(\"img\") to image_tags\n",
    "image_tags=soup.find_all(\"img\")\n",
    "image_tags[0]"
   ]
  },
  {
   "cell_type": "code",
   "execution_count": 51,
   "id": "5c576941-1304-44d4-a58d-5ee82874b361",
   "metadata": {},
   "outputs": [],
   "source": [
    "#to remove 1st url(above) of image we use del\n",
    "del image_tags[0]"
   ]
  },
  {
   "cell_type": "code",
   "execution_count": 52,
   "id": "7875eafe-d665-4e0d-8f0f-79addfa71b2a",
   "metadata": {},
   "outputs": [
    {
     "data": {
      "text/plain": [
       "[<img alt=\"\" class=\"DS1iW\" src=\"https://encrypted-tbn0.gstatic.com/images?q=tbn:ANd9GcSRbFmFpsQkNSZAQyyGy-HwUWJMSekZ14Kk2gwDkvjSHPUnd_nbzd1JH2DTWA&amp;s\"/>,\n",
       " <img alt=\"\" class=\"DS1iW\" src=\"https://encrypted-tbn0.gstatic.com/images?q=tbn:ANd9GcQHjCvM-dPVKpDu59h-VyiSCY5goWCXKplxybBvpYLaVAgpoVeISlNIHIsCO6E&amp;s\"/>,\n",
       " <img alt=\"\" class=\"DS1iW\" src=\"https://encrypted-tbn0.gstatic.com/images?q=tbn:ANd9GcRi2aGN5Ejx_x-8hVAZ58RTc7iMYgZfzHYO7f6CREzEmlrQn52jY5rHDrPZRQ&amp;s\"/>,\n",
       " <img alt=\"\" class=\"DS1iW\" src=\"https://encrypted-tbn0.gstatic.com/images?q=tbn:ANd9GcQlJkwteO3PpyplBt-c8kANtpfv_8Pz99QHB4QtaFON4gsCBawpTgY0xJFOHm0&amp;s\"/>,\n",
       " <img alt=\"\" class=\"DS1iW\" src=\"https://encrypted-tbn0.gstatic.com/images?q=tbn:ANd9GcTpwOeyKpExL25z2Uo30GC04ek6j9Jzd6zR3wGgJET80b_JDwPoc2yPU1IZSUo&amp;s\"/>,\n",
       " <img alt=\"\" class=\"DS1iW\" src=\"https://encrypted-tbn0.gstatic.com/images?q=tbn:ANd9GcQMa36427poIdUNFa35gRQ0ukN7pKHYVLLpZIh7swyUmP26-S_qm3JdOpBHKtQ&amp;s\"/>,\n",
       " <img alt=\"\" class=\"DS1iW\" src=\"https://encrypted-tbn0.gstatic.com/images?q=tbn:ANd9GcQmsqcL3-_og8ZGkZZQReXEhi8to0jkQG2WCVV_j-75HckDrdnV58CrrMVtvKc&amp;s\"/>,\n",
       " <img alt=\"\" class=\"DS1iW\" src=\"https://encrypted-tbn0.gstatic.com/images?q=tbn:ANd9GcRmqnmBeNI2anwDU32r6G63rdjuatewRA91hztiYR8GixTPs15Glmw7NEv9vA&amp;s\"/>,\n",
       " <img alt=\"\" class=\"DS1iW\" src=\"https://encrypted-tbn0.gstatic.com/images?q=tbn:ANd9GcQTogOKsumb4Dlr5q9ZSLn9tYrLd_M1DQFDbIa1B8ynFfc_06AZJCj42VitTFU&amp;s\"/>,\n",
       " <img alt=\"\" class=\"DS1iW\" src=\"https://encrypted-tbn0.gstatic.com/images?q=tbn:ANd9GcTWyplXQ_UR_QnfeA1A5Mk83qlqyNPwYgawvwf_8BCBz0EtmPduT5OgYoJckLM&amp;s\"/>,\n",
       " <img alt=\"\" class=\"DS1iW\" src=\"https://encrypted-tbn0.gstatic.com/images?q=tbn:ANd9GcSeWs8P0JFBqwIgVxRny-pCPLQjdX2sjL55s2aYvAjjgopda61xkq31bNezNw&amp;s\"/>,\n",
       " <img alt=\"\" class=\"DS1iW\" src=\"https://encrypted-tbn0.gstatic.com/images?q=tbn:ANd9GcRVG4RTMB3H_PdS16n61DSrKLwgNd89ad0DbqF7XHEJovZ46fuIhlaHEMIZ3IM&amp;s\"/>,\n",
       " <img alt=\"\" class=\"DS1iW\" src=\"https://encrypted-tbn0.gstatic.com/images?q=tbn:ANd9GcR0EccVGkZPisUQVkd9qZ9GRHrQJVXsIXhZ9bb7Tl-TuNWwYcQUvtFBHYwjKVU&amp;s\"/>,\n",
       " <img alt=\"\" class=\"DS1iW\" src=\"https://encrypted-tbn0.gstatic.com/images?q=tbn:ANd9GcSx3Ws9wxWZGwna_M8F44INDme67zHhQPE1TvSCBpmP670yzzNOXTB7Cdw6rQ&amp;s\"/>,\n",
       " <img alt=\"\" class=\"DS1iW\" src=\"https://encrypted-tbn0.gstatic.com/images?q=tbn:ANd9GcSS1cOiVh9N9OmsCRHZidTVeCYlqTXsSHmYMo3e6C9d1XP1DSWgqP70scXEqTQ&amp;s\"/>,\n",
       " <img alt=\"\" class=\"DS1iW\" src=\"https://encrypted-tbn0.gstatic.com/images?q=tbn:ANd9GcS5yotQu0owI-7QgGN_rrTsZquWJ6VhzQdmqqeY4V04pK0B7cceVnpAthg1Mw&amp;s\"/>,\n",
       " <img alt=\"\" class=\"DS1iW\" src=\"https://encrypted-tbn0.gstatic.com/images?q=tbn:ANd9GcRGrsbjJbQpsWREeCW_WxnzUXPOEZMJhUy8OQXwIO6-3l8uBap2qxTAXE2WBls&amp;s\"/>,\n",
       " <img alt=\"\" class=\"DS1iW\" src=\"https://encrypted-tbn0.gstatic.com/images?q=tbn:ANd9GcRxA7RnjQVM4aS_3VbQZvU4y-_aIq80NaygzrZODAs4TbsqhZc8nr-Ro0kia9A&amp;s\"/>,\n",
       " <img alt=\"\" class=\"DS1iW\" src=\"https://encrypted-tbn0.gstatic.com/images?q=tbn:ANd9GcQ79qWnL_nDu9mECMl5gFvur_P3Gto6VOyZdwydGxhdB_PstC6WQsNC-djheig&amp;s\"/>,\n",
       " <img alt=\"\" class=\"DS1iW\" src=\"https://encrypted-tbn0.gstatic.com/images?q=tbn:ANd9GcQYg9lb3BWUpVaVU-lcLXJRX1-j0Qo_vnWF3qos86HmNOxDaFNhq-NiKUB0GA&amp;s\"/>]"
      ]
     },
     "execution_count": 52,
     "metadata": {},
     "output_type": "execute_result"
    }
   ],
   "source": [
    "image_tags"
   ]
  },
  {
   "cell_type": "code",
   "execution_count": 53,
   "id": "babe58d7-60fd-4c93-8b22-c60cf69c5af2",
   "metadata": {},
   "outputs": [
    {
     "data": {
      "text/plain": [
       "20"
      ]
     },
     "execution_count": 53,
     "metadata": {},
     "output_type": "execute_result"
    }
   ],
   "source": [
    "len(image_tags)"
   ]
  },
  {
   "cell_type": "code",
   "execution_count": 54,
   "id": "d165da63-92d5-41c1-b8ae-fca0145e164a",
   "metadata": {},
   "outputs": [
    {
     "name": "stdout",
     "output_type": "stream",
     "text": [
      "https://encrypted-tbn0.gstatic.com/images?q=tbn:ANd9GcSRbFmFpsQkNSZAQyyGy-HwUWJMSekZ14Kk2gwDkvjSHPUnd_nbzd1JH2DTWA&s\n",
      "https://encrypted-tbn0.gstatic.com/images?q=tbn:ANd9GcQHjCvM-dPVKpDu59h-VyiSCY5goWCXKplxybBvpYLaVAgpoVeISlNIHIsCO6E&s\n",
      "https://encrypted-tbn0.gstatic.com/images?q=tbn:ANd9GcRi2aGN5Ejx_x-8hVAZ58RTc7iMYgZfzHYO7f6CREzEmlrQn52jY5rHDrPZRQ&s\n",
      "https://encrypted-tbn0.gstatic.com/images?q=tbn:ANd9GcQlJkwteO3PpyplBt-c8kANtpfv_8Pz99QHB4QtaFON4gsCBawpTgY0xJFOHm0&s\n",
      "https://encrypted-tbn0.gstatic.com/images?q=tbn:ANd9GcTpwOeyKpExL25z2Uo30GC04ek6j9Jzd6zR3wGgJET80b_JDwPoc2yPU1IZSUo&s\n",
      "https://encrypted-tbn0.gstatic.com/images?q=tbn:ANd9GcQMa36427poIdUNFa35gRQ0ukN7pKHYVLLpZIh7swyUmP26-S_qm3JdOpBHKtQ&s\n",
      "https://encrypted-tbn0.gstatic.com/images?q=tbn:ANd9GcQmsqcL3-_og8ZGkZZQReXEhi8to0jkQG2WCVV_j-75HckDrdnV58CrrMVtvKc&s\n",
      "https://encrypted-tbn0.gstatic.com/images?q=tbn:ANd9GcRmqnmBeNI2anwDU32r6G63rdjuatewRA91hztiYR8GixTPs15Glmw7NEv9vA&s\n",
      "https://encrypted-tbn0.gstatic.com/images?q=tbn:ANd9GcQTogOKsumb4Dlr5q9ZSLn9tYrLd_M1DQFDbIa1B8ynFfc_06AZJCj42VitTFU&s\n",
      "https://encrypted-tbn0.gstatic.com/images?q=tbn:ANd9GcTWyplXQ_UR_QnfeA1A5Mk83qlqyNPwYgawvwf_8BCBz0EtmPduT5OgYoJckLM&s\n",
      "https://encrypted-tbn0.gstatic.com/images?q=tbn:ANd9GcSeWs8P0JFBqwIgVxRny-pCPLQjdX2sjL55s2aYvAjjgopda61xkq31bNezNw&s\n",
      "https://encrypted-tbn0.gstatic.com/images?q=tbn:ANd9GcRVG4RTMB3H_PdS16n61DSrKLwgNd89ad0DbqF7XHEJovZ46fuIhlaHEMIZ3IM&s\n",
      "https://encrypted-tbn0.gstatic.com/images?q=tbn:ANd9GcR0EccVGkZPisUQVkd9qZ9GRHrQJVXsIXhZ9bb7Tl-TuNWwYcQUvtFBHYwjKVU&s\n",
      "https://encrypted-tbn0.gstatic.com/images?q=tbn:ANd9GcSx3Ws9wxWZGwna_M8F44INDme67zHhQPE1TvSCBpmP670yzzNOXTB7Cdw6rQ&s\n",
      "https://encrypted-tbn0.gstatic.com/images?q=tbn:ANd9GcSS1cOiVh9N9OmsCRHZidTVeCYlqTXsSHmYMo3e6C9d1XP1DSWgqP70scXEqTQ&s\n",
      "https://encrypted-tbn0.gstatic.com/images?q=tbn:ANd9GcS5yotQu0owI-7QgGN_rrTsZquWJ6VhzQdmqqeY4V04pK0B7cceVnpAthg1Mw&s\n",
      "https://encrypted-tbn0.gstatic.com/images?q=tbn:ANd9GcRGrsbjJbQpsWREeCW_WxnzUXPOEZMJhUy8OQXwIO6-3l8uBap2qxTAXE2WBls&s\n",
      "https://encrypted-tbn0.gstatic.com/images?q=tbn:ANd9GcRxA7RnjQVM4aS_3VbQZvU4y-_aIq80NaygzrZODAs4TbsqhZc8nr-Ro0kia9A&s\n",
      "https://encrypted-tbn0.gstatic.com/images?q=tbn:ANd9GcQ79qWnL_nDu9mECMl5gFvur_P3Gto6VOyZdwydGxhdB_PstC6WQsNC-djheig&s\n",
      "https://encrypted-tbn0.gstatic.com/images?q=tbn:ANd9GcQYg9lb3BWUpVaVU-lcLXJRX1-j0Qo_vnWF3qos86HmNOxDaFNhq-NiKUB0GA&s\n"
     ]
    }
   ],
   "source": [
    "for i in image_tags:\n",
    "    print (i['src'])"
   ]
  },
  {
   "cell_type": "code",
   "execution_count": 58,
   "id": "9e70e02f-0579-4378-981d-c06cc1095084",
   "metadata": {},
   "outputs": [
    {
     "data": {
      "text/plain": [
       "b'\\xff\\xd8\\xff\\xe0\\x00\\x10JFIF\\x00\\x01\\x01\\x00\\x00\\x01\\x00\\x01\\x00\\x00\\xff\\xdb\\x00\\x84\\x00\\t\\x06\\x07\\x08\\x07\\x06\\t\\x08\\x07\\x08\\n\\n\\t\\x0b\\r\\x16\\x0f\\r\\x0c\\x0c\\r\\x1b\\x14\\x15\\x10\\x16 \\x1d\"\" \\x1d\\x1f\\x1f$(4,$&1\\'\\x1f\\x1f-=-157:::#+?D?8C49:7\\x01\\n\\n\\n\\r\\x0c\\r\\x1a\\x0f\\x0f\\x1a7%\\x1f%77777777777777777777777777777777777777777777777777\\xff\\xc0\\x00\\x11\\x08\\x00\\x8c\\x00N\\x03\\x01\\x11\\x00\\x02\\x11\\x01\\x03\\x11\\x01\\xff\\xc4\\x00\\x1b\\x00\\x00\\x02\\x02\\x03\\x01\\x00\\x00\\x00\\x00\\x00\\x00\\x00\\x00\\x00\\x00\\x00\\x04\\x06\\x03\\x05\\x00\\x02\\x07\\x01\\xff\\xc4\\x00A\\x10\\x00\\x02\\x01\\x03\\x03\\x01\\x06\\x03\\x05\\x04\\x05\\r\\x00\\x00\\x00\\x00\\x01\\x02\\x03\\x04\\x05\\x11\\x00\\x12!1\\x06\\x13\"AQa\\x07\\x14\\x81\\x152q\\x91\\xa1#B\\xc1\\xd1\\x82\\xa2\\xb1\\xb3\\xf0\\x16$%3CRUb\\x83\\x92\\xc2\\xe1\\xf1\\xff\\xc4\\x00\\x1b\\x01\\x00\\x02\\x03\\x01\\x01\\x01\\x00\\x00\\x00\\x00\\x00\\x00\\x00\\x00\\x00\\x00\\x02\\x03\\x01\\x04\\x05\\x00\\x06\\x07\\xff\\xc4\\x000\\x11\\x00\\x02\\x02\\x01\\x03\\x02\\x04\\x05\\x03\\x05\\x01\\x01\\x00\\x00\\x00\\x00\\x01\\x02\\x00\\x03\\x11\\x04\\x12!1A\\x05\\x13\"Qaq\\x91\\xb1\\xf0\\x15\\x81\\xc1\\x14#B\\xa1\\xd1R\\x06\\xff\\xda\\x00\\x0c\\x03\\x01\\x00\\x02\\x11\\x03\\x11\\x00?\\x00R\\xb5\\xd4\\xc5K\\x94\\x85K\\x17\\xe9\\xce\\xab6LA\\xe6H1\\xb9\\xc9F\\xf7\\xc9\\xd4\\t\\x10I\\x8b*\\xbf\\xa65\"L\\xa9\\x89\\xc9\\x90~:3\\xd2\\x1e%\\x84\\xb3\\xa8]\\x84\\x1c\\xe3P$bA\\xb9\\xa5\\x8d\\xa3P2zjs\\x08\\x89\\x1b,\\xca\\x9bNW\\\\\\x18H\\x91\\xa1\\x99IRw\\x825\\xdb\\xa4\\x91$X\\xa6X\\x08\\x0b\\x82\\x0epu\\x04\\x838\\x1cGO\\x82q\\xb0\\xed\\x95C\\x929\\xb7K\\xfd\\xe4Z5=\\xa1\\xe6*\\xc7tup\\xc9\\x0ck\\x8fm\\x0e\\xc8\\xad\\xb0\\xf8n\\xb0\\xcd\\x03\\x89v,\\xb9\\xe8<\\xf4%q\\x04\\x89\\xab\\xa8el\\x91\\x82=u\\x12%\\x1bb\\x07\\xdcz)\\xd1\\xf5\\xe20F\\xfe\\xd2X\\xe8\\xa9,v\\xdb\\x95#\\xbc\\x86\\xa6%2\\xb9\\xe4\\x12\\xc3*G\\xa0\\xe0\\x8f\\xcbU\\xaa\\xb0\\x92A\\xed\\x1cS\\x00E\\xc4\\x8c\\xaa\\x17\\x8f$\\xaf\\xa6\\x9d\\x9c\\xc1#\\x109jK7$\\xe8\\xc0\\x10@\\x9e\\x17e\\xe4\\x1dv\\x04\\x99\\xb1\\xa8\\x9aHX/Q\\xd4\\x9e\\xba\\x83\\x81;nc\\xb7\\xc1\\r\\xe7\\xb63\\x96\\xff\\x00\\x86\\xcb\\xfd\\xe4Zb\\xe2t\\xe7\\xb1\\xccd`\\xaa\\x0eOMt\\x03\\xc7XdT\\xb2\\xf51\\x9fRt\\xa6l6#\\x14er\\'\\xbf6\\x0eUwn\\x1e\\xba,E\\x15\\x91E\\x1c\\xd5\\x12\\x98\\xdb\\xc4\\x08\\xce\\xbb\"\\x11\\x18\\x13\\xaa\\xdbi\"\\xb8\\xfc7\\x96\\x99\\xf6\\xbc\\x94\\xf4\\xac\\xa8\\xe0r\\x0cgp\\x1f\\xa0\\x1a\\xcc6\\x15\\xb8\\x99myI\\xcc\\xe9\\xe7h\\x9b*I\\xcf\\x18\\xf5\\xd6\\x96\\xd9X\\xb90\\x9a\\x8bl\\xc9\\x9d\\xb06d\\x19\\x1b\\x86\\x94_\\x04f\\x1a\\x0c\\x83\\x06\\xab\\xa4\\xae\\xa21EW\\x01N\\xf0x}\\xf4\\xecE\\xe6E\\x14-$\\xe2\\x18\\xf3\\xbc\\x9eu\\x07\\x10\\xd73\\xa5|%\\xb6|\\xb7k%\\x9c>A\\xb7\\xc8\\x85}\\x0fy\\x17\\xf2\\xd1\\xa1\\x91\\x11\\xe3\\xb4KD\\xd2\\xd4TG\\xb5\"\\xe1}\\xf4h6\\x9c\\x99V\\xe3\\xe6.\\xd5\\x966\\x85\\xfbGr\\xc2\\x0b0\\x1c\\x8ccUuW\\xd5_\\xf7\\x1euij\\x8d\\x92\\x8a\\xbe\\x19\\xa8n\\x1d\\xdc\\xf4\\xa4\\x059\\xc3y\\x8d@u\\xb1r\\x86[\\x1e\\xc4K:\\xbajF\\x85&\\xb7\\xe5g\\x90\\x7f\\xabS\\xaat\\xb5\\xea\\xfb_\\xa4{\\x8a\\xd9x\\x8e\\x9f\\x0c\\xa5\\x9aZJ\\xfa*\\x98\\xc2\\x14\\x93\\x94>\\x8c\\xb8\\xff\\x00\\xc7Q\\xa9\\x1bX\\x19\\xd5\\xf4\"(Io\\xa6\\xb1\\x9aw\\xab\\x8b.\\x9c\\x91\\x9e\\xb8\\xd6\\xaf\\x04fQ\\xe782\\xc8_E\\xde\\xe3H\\xa2\\x05\\x8e\\r\\xdby\\xeb\\xa4\\x9c3`\\x88\\xfc\\x10$\\x1d\\xb0\\xaaO\\xb4\\xe3\\x842\\xca\\xb1.@>GM\\xc4\\x08\\xb7Kp\\x14\\xb7!$\\x80\\x0c\\x9f\\xcbQ\\xb6\\x1e\\xe9\\xd4\\xbe\\x16\\xd4,\\xfd\\xa3\\x98\\xa7 \\xd19\\xfe\\xbcz\\x15o^\\xd9\\xd8\\xe31.\\x92\\xeb=\\xe8KIP\\x88\\x81\\xd7+\\x8d/W\\xaa\\xf2\\x938\\x83N\\x9f\\xd5\\xc1\\x86vN&\\xa3j\\x89\\xc9\\x1d\\xe0\\xc8#\\xd0\\x8db\\xf8\\x85\\xa2\\xc0\\xa9\\xda[\\x15\\x9c\\xe6QTGr\\xbc\\xddr\\xec$;\\xb0x\\xc0Q\\x9di\\'\\x97\\xa7\\xa7\\xd2\"\\x82\\x92\\xdc\\xcb\\xaa\\xabd\\x16i\\x16\\xad\\x18\\xb3\"\\xe4\\xaes\\xaa\\xfa=[\\xddf\\xd7\\x10\\xed\\xadUr\\xb2O\\x87\\x97\\'[\\xa5\\xdaI\\x9c\\xb3MO\\xde\\x85\\x1dr\\xad\\xd0\\x7f\\xdd\\xab:\\xc5\\xf4\\x02\\'i\\xc6[\\x04\\xca\\xfb\\x8d\\xed\\'\\xa7\\x99\\xea\\xe2V\\xa8\\x82B\\xbb\\x0f\\xb1\\xc6\\xaf\\x05\\xc0\\x12\\xab`\\x9e%\\x14\\x13\\xc9_R\\xd2\\x87\\x10\\x05\\xe4\\x05\\xe3\\x1a\\x07;;CA\\x9e \\xe5\\xa6\\x9ey\\x08c$\\x80\\xf5\\xcet\\xc0x\\xcc\\x120a)JR\\x9d\\xa5\\x90ob<\\xfc\\xb4\\x9d\\xf9lF\\x85\\xc2\\xe6>|\\x10\\xa8\\x0f\\xda*\\x98\\xcf\\x04Q9\\x03\\xfaq\\xe8\\xb6\\x1f3p\\xf6\\x80\\x18c\\x12\\x8a\\xd9g\\x0f?\\xcd\\xa4\\xc5q\\xd0\\r)\\xd48\\xc1\\x8fU\\x84\\xd3\\xd7\\xd3\\xdb\\xeem\\x01\\x0c\\xc2L\\x03\\xe9\\x9d\"\\xcd\"8\\x19\\xed\\x02\\xc7e\\xe9<\\x94\\xd3Y/\\xe4\\xb3\\x17J\\x85\\xc9\\t\\xfb\\xba\\xb2\\x14c\\x11\\x19\\xc8\\x92\\xdf\\xee\\x94/H\\xf1\\x80~a\\x8e\\x14\\xe3\\xa0\\xd2\\xfc\\xb5\\xce\\xecs:\\xbc\\xf4\\x80\\xf6v\\x0e\\xee\\xf8\\x8bN&\\rW\\x04\\x90\\x82\\x8ar\\x0b/\\x04c\\xa7\\x88\\x0e|\\xb4\\x173\\xb5d\\xe3\\xa7?Ij\\x95_0\\x02z\\xcdn\\x16\\xa8*{V\\xd4\\x12\\xac\\x81\\x84\\xed\\xdf\\x13\\x91\\xbb\\x9c\\xf9\\xf3\\xf5\\xd1T\\xf6\\n\\xf2`\\xde\\xa8\\x1c\\xaa\\xcbN\\xd5\\xf6~\\x8e\\x8a\\x86\\x16\\xa1\\x80\\x05\\x8c\\xf8\\x82u#\\xd7J[N\\xefQ\\x82\\x8b+i\"\\xb6<0$\\x114R\\x1e\\x1d\\xcf\\xae\\xa2\\xdbmE$\\x1c\\xc9T\\x04\\xf3\\x07\\xaf\\xb3\\xd4SRL\\xf2nh\\xb7\\xe7p\\xf4\\xd7Q\\xa8\\xde\\xc3\\x88L01/\\xbe\\t\\xa7w\\xdb*\\x95!\\x94\\xfd\\x9d)\\x00\\x8cq\\xdeE\\xad%9\\x95\\xf1\\x04\\xb7o\\xa7\\xa3&YQ|\\x1e\\xba\\xcd\\xbbV\\x15\\xf6\\x81,\\xa1\\xe2.KPj+\\xa4hX\\x1f\\x17\\xde\\xd5\\xb0} \\x98\\xb2w\\x19\\x1d\\xc2\\xa6o\\x9c\\x0e\\xec;\\xc5\\x1a4\\x00\\x88\\xbd\\xbbN!\\x96\\xa3\\xf37\\x08g\\xa8 \\x9d\\xe39\\xe8\\x06\\x85\\x8e\\x0e$\\xed\\x18\\xcc\\xe9\\xf6+\\xed\\r\\x05l5BDX\\x131T\\xb2\\xe7\\xc2\\xac\\t\\x07\\x03\\xaf\\x89G\\xeb\\xae$)\\x13\\x95\\x0b\\x03\\x8e\\xb2{\\xd5]-\\xe2\\xd2\\x1b\\xedXj0\\xc9<22mt\\\\\\x9c\\xe0m\\x07\\xc4J\\xaeG\\\\\\x8f\\xa8\\xb3\\x0cs\\x0cT\\xc4\\xed\\x03\\x99Er\\xaf\\xa4\\xa5\\x8d\\xd2\\xaa}\\xac\\x07C\\xd7A~\\x9a\\xbb\\x80\\x83[\\xb2\\x13\\x12\\xaa+\\xa3j\\xb3U\\x18\\xcc\\x01\\xc1#\\xa1:\\x11PQ\\xb0Ga\\x8f&57m;8i\\x92\\x9a\\xab\\xbe\\xc6\\xd1\\xb8\\x08\\xc9\\x03\\xdbF\\xb5\\x1cp%r\\x0ec\\xa7c\\x16\\x86k\\xd2\\xd4Qwl\\x86\\x8d\\xc2\\xc8\\x87!\\x97z\\x7f-\\x1dC\\r NAq\\xa3\\xa9\\xf9E\\x9a7\\x8d\\xe2<?v\\xc7\\x8f\\xa1\\x00\\xfai\\xac\\x8a\\xcd\\xcfQ;\\x04\\x0c\\xc2\\xed\\xfd\\x96\\x9cQ\\x89ZEGq\\x94V\\xeb\\xac\\xab|I\\x05\\x9bq\\x9cF\\xaa\\xf1\\x98l]\\x8d\\x929R\\xaa\\xb1\\xd5\\xd1Nd@:\\x8d+\\xf5U>\\x90!l\\xeef\\xb7\\xf1CM\\x15?\\xc9S\\xe5\\xdf;q\\xc6\\x06\\xacRY\\xc9$\\xc2l\\x01\\xc0\\x9e\\xf6r\\xed\"\\xfc\\xcd\\xbe:n\\xf0O\\x13J\\xea\\x80\\xb1\\xca\\r\\xdd\\x07\\xde\\xe1q\\x8f}6\\xe3\\xb2\\xbeN\\x06G\\xde7K`\\xaa\\xe0\\xe4g\\x00\\xf1\\xfbK\\x88\\xae\\x0bN\\xd4\\x14\\x92\\xc6\\xa6\\x18Y\\xa5_\\t\\\\\\x92:\\x85\\xc0\\xf0\\x81\\xc6}A\\xf4\\xd5Fb\\xc9\\xb9O\\xe7\\xe71\\xcd\\xb5n;{\\xcb.\\xd0\\xd8\\xa9\\xafT\\xe0\\xc66T\\xec\\xc4r\\xed\\xe3\\xd9Xz{\\xf5\\x1e\\xe3\\x8d6\\xab\\x80\\xc7\\xb4\\x0b*\\xdd\\xcfx\\x8d\\xd9\\xcb\\x1bU_\\xfe\\xcc\\xafF\\x8d\\x91_\\xbc^\\xbbp0\\t\\xf6\\xc9\\x1f\\x8f\\xd7V\\xec|.\\xe1\\x010\\xdc\\x18\\xd3\\xda.\\xce\\xda\\xe7\\xa2u\\x14\\x82$V\\xc4\\x12C\\x93\\xeeI\\x03\\xdc\\xf5\\xd5e\\xbd\\x81\\xcci\\xd3\\xae\\xdcC\\xfe\\n\\xca`sA\"\\xec\\x91)\\xe5q\\xee\\xa6E\\xfez\\xd6\\x14\\x90\\x05\\x87\\xbc\\xc9\\xf3\\x14\\xb9A\\xda+\\xff\\x00\\x91\\xf7\\xb4V\\x9eJ\\xb8#\\xd8\\xec\\x1e8\\xc09\\x8f\\x1c\\xe7\\xcc\\x93\\xfaj\\x83kA\\xed/\\x7fK\\xc4\\xca\\xea\\xaa\\x96\\x8a-\\xf1\\xba\\xbc+\\x80GL\\xea\\x8dt\\xd6\\xacy\\xce`\\x84lr!\\xf4w\\xda\\xc9Gw2&\\xd1\\x80[\\xd7S_\\x85\\xd6\\xcd\\xb8\\x9e\"l\\xb4\\xa0\\xc4\\x0b\\xb4\\x96\\xf2\\xb4\\xe9<O\\xb1\\x01\\xe4\\x1f\\x7fMj\\xb5*\\x8b\\xe9\\x114\\xda\\xccpa\\x1f\\r\\xa1\\x8e\\x8e\\xe1[](\\x0c\\x1e\\x0e\\xe9\\x18rW,3\\xf9\\xe0k#\\xc6k\\xb2\\xdd2\\xaa\\xfb\\xcb\\xfa\\\\y\\xa71\\x8e\\xa6\\x1bm\\xce\\xed5uXu\\x8e\\x9d\\x04\\t\\x97\\xc0le\\x98\\xfe\\x1e,}\\x0e\\xa9h\\xd4\\xd1\\xa7\\x08\\xe7\\xaeL\\xba\\xe8\\x19\\xb7H;AQ-\\x9ejh\\xe5\\x13\\xba\\xd4x\\x92m\\xb9V<\\x9c\\x13\\x8c.\\x06:\\xf5\\xdd\\xed\\xa6h\\xf6\\xb5d\\x86\\xe4v\\xfc\\xf7\\x8bk\\xb0\\xf8\\xc7\\x10\\xdbE\\xc6+\\x96\\xc8\\x99\\xc2\\x93\\xe1\\x1bp|\\xfc\\x8f^\\xb8\\xe3Se\\x9bT\\xb0\\xe20\\xa2\\xb0\\xca\\xcc\\xb8\\xd9\\xaa\\x9e\\tf\\x8e\\xb0\\x15x\\xca\\xca\\xcb\\x1e\\xd6\\x0b\\xd0\\xe7\\x9fQ\\xe9\\xa3\\xd2^\\x96\\xda\\x03\\xc4Z\\xee\\x95\\xf1)\\xbe\\x189_\\x88Up,\\xa5\\xd1-\\xd2\\xf3\\xff\\x00R-zO0\\xb0\\xe6d\\xa2\\x00I\\xef\\x15\\xee\\xfd\\xa7\\x92\\xa2\\x89\\xe9h\\x13\\xfc\\xe9\\xb7\\x96\\xa8\\x8aF\\xc2\\xa8\\x05\\x98\\xaf\\x1dv\\xe4\\xe3<u\\xd6e:p\\xa43\\xf4\\x9aV\\xdaq\\x81\\x06Z\\xda\\xda\\xca\\x01<\\xae{\\xbd\\xe6 \\xe3\\x03s\\x00\\x0f#\\xd8i\\xd6UXa\\x81\\xccJ\\xbbm\\xe4\\xc7\\x1e\\xcbP\\x04\\xb4<\\x95J\\x1aFl\\xf3\\xe44\\xfa\\xc6\\x04\\xafg&/_k\\x8dl\\xe6\\x1c\\x9e\\xe2\\'\\xc0\\xc7C\\xa7\\x12\\x87\\xd2L\\xaa\\x81\\xd4\\x97\\x03\\x89\\xbd\\xa9\\x8d\\x0b\\xaaC\\xc4u,\\x03d\\xfa\\x7f\\xf4\\xe9\\x1a\\x9a+z\\xb6\\x9e\\xd1\\xd4_b\\xd9\\xb8t1\\xe6\\xd5n\\x82\\xbe\\x7f\\x95\\xa7\\x0b#*\\xeev\\xfb\\xc1=\\xf1\\xd3^P\\x97\\x073a\\xec\\xf4\\xc9j\\xe8\\xa6\\xb6PKKq\\x85d\\xa7!\\x99\\xa2vf\\x8d\\xc8\\xfd\\xe8\\xe4\\xfd\\xc6>\\x8d\\x9es\\x8c\\xe7\\'q\\xaa\\xd2k\\xb0\\xf5\\xb6\\xc7\\x1f,\\xfd;\\xcc\\xe0\\xd6!\\xc63\\x03\\xb3\\xc1k\\xcb\\xc9G\\x0bQ\\xba2s<\\x88w\\xb3\\x1c\\x00\\xa4s\\x9fL\\xeb\\x0bYV\\xa1F\\t\\xdc\\x0ez\\x0e\\xc3\\xbf\\xcam5_\\xd3\\x11\\xb8\\x83\\x99ez\\xb85\\xaf\\xb3\\xb5r$[\\xce\\xc6T@\\xb9\\xcb7\\xf0\\xe4\\x93\\xf5\\xd5]\\x05o\\xa8\\xd4\\xaa\\x83\\xf1\\xfa~bS\\xd40\\x00\\xc5o\\x83\\x94\\xd2K\\xda\\xaa\\x8a\\xcd\\xa7o\\xc8H\\x84\\xfa\\x93$G\\xf8\\x1d{\\x90y\\x99\\xc2(\\xdc+\\xbb?C\\x96\\xb3\\xc9=X\\x8a\\xa3|=\\xeal\\xdd\\xb8\\x00\\xd9\\xc8\\x1cu\\x18\\xf6\\x1a\\xae\\xf5\\xdba*z\\x11\\x1a\\xac\\xaa3\\xdeZv\\x1e\\x82\\xdf%\\xa9>j\\xa0\\xc9!r\\xcd\\x118\\x11\\x90q\\x9f\\xc4\\x8c~\\x9a+\\x98\\xabq\\x03\\'\\x01aw\\xab\\xcdL\\x15s\\xd1\\xdbY\\x04\\x01\\x00\\xc9\\xf5\\xf6\\xd7-\\xb8\\\\\\x99\\xdeY&U\\xd0\\xd1\\xd4TS\\x06p\\x841$\\x9d!\\xefQf\\xefh@\\x00\\x85I\\x93\\\\-\\xf2\\xad\\x02\\xc9\\x14\\xcb\\x98\\xf2v\\xea\\xef\\x9a\\x1dr%aYV\\xc1\\x9dG\\xe1\\xb5\\xa5\\xedV&y\\xc1Z\\x8a\\x92\\xb2H\\xad\\xd5x\\xe0\\x1f\\xa1\\x1ck\\xcdk\\xaeW\\x7fL\\xbe\\x83\\x88\\xc54\\xe1\\x01$\\xe0\\x01\\xac\\x9b\\x1e9T\\x98\\xb3\\x7f\\x8a\\x9eZjy\\x19#U\\x8e\\xa69\\xb7\\x11\\x86;\\tn>\\x80\\xfe\\xbav\\x8a\\xe7K\\x08^IR>\\xbcI\\xbd2\\xbc\\x9e\\x91:\\x83\\xb4w\\t.\\xd0QU\\xc9\\x14\\xd1\\xaa\\xacr\\x1c\\x0f\\x13\\x05\\xf17\\x1crs\\xafO\\xa3\\xd2\\xd5\\xa6f\\xd81\\x93\\xfe\\xbb\\x0f\\xce\\xf2\\x93\\xb1u\\x072\\xdb\\xe1\\xa5\\xca5\\xed\\xad\\xd2\\xdb\\x14#h\\x86YC\\x83\\xc1\\xc3\\xc61\\xfdmh\\x08\\xa0;\\xcck-\\x82:V\\xa5\\xf9\\x1bZ\\xd6<\\xf8\\xa7\\xff\\x00E\\x07\\xdd\\x18;|=ZNW$\\xe4\\x9c\\x1es\\xaaMI\\xb0\\xee\\xde\\xc3\\xe4x\\x85\\xbb\\x1cJ\\xbe\\xd5\\xd0SP-J\\xc7\\xf2\\xe2(\\xe7X\\xd0\\xd3P\\xa4\\x1c\\xb2\\x96\\x19+\\xd4\\x8c\\x11\\xd3\\x07\\xaf\\x96\\x92\\xb4\\xed\\\\\\x86$\\xfcNc\\xeb\\x7fV\\x0fH\\x8ew=\\x7f\\x8f m\\xe7\\xdfM>\\x95\\x960\\xb6?\\xa6L\\xd5u4\\xb4\\xfd\\xc53\\x1e[?\\x86\\x80*\\xb3e\\xa2\\xf5\\x1aeQ\\x91\\xd69|9\\xb1Kx\\xac7K\\x8c\\xed\\x1d5\\x1b\\xae\\xd5\\x00bW\\xeb\\x83\\x9f!\\xe7\\xf8\\x8e\\x9aN\\xb6\\xdf.\\x9d\\x8b\\xde%yl\\xfbN\\xad->\\xc8\\\\\\xc2\\xc4\\x86$\\x9c\\x1ey9\\xd7\\x99\\xb5\\x19\\x08n\\xa2Z\\xad\\x86y\\x81H\\x88N][\\x00d6t\\x04\\x822%\\x81\\x9cD~\\xdeI#[\\xaa\\xab\\x8c\\x9f\\xb2\\xa6^\\xe2 \\x07\\r3\\x90\\xac\\x7f\\xa2\\xb9\\\\\\x8f6\\x7fMj\\xf8b\\x85uN\\xed\\xc9\\xf8\\x01\\xc8\\xfa\\x9e\\x7fa+j\\x0eT\\xfb\\x0e\\'9\\xb5G\\xdeU$\\x92JC\\x03\\x93\\x8c\\xeb\\xd1XXt\\x95+\\x0b\\xd2?\\xfc/\\xb6\\xa4\\x1d\\xb2\\x9e\\xa2\\x9en\\xf26\\xb7\\xc8\\x0e\\xefS$g\\xf8h\\xean\\xc6K\\x0c\\x0c\\xc3\\xaa)\\xae\\xd5\\xb1\\x0b\\x85%\\xca!\\x10\\xaf\\x92Jf\\x92\\x93\\x06\\x1c\\xe4\\x04\\xc6\\xdf\\x12\\x90X\\x16\\xe7\\xcb\\xd3\\x81S\\xb4\\xed=q\\x14y\\x19\\x90\\xf6\\xa6H\\xee\\xf5\\x95\\xf1\\xd3\\xd4w\\xd1I*S\\xc7\\x10\\x8b\\x01g@\\x18\\xb0r0N\\xc5u\\xda\\x0e|\\xf0|\\x85xL\\xb4\\x92}\\\\E\\x83Sl\\xa3\\x9d\\xa9\\xea\\xa0\\x12\\x11\\xc7x\\xa38\\xd36\\xae0gy\\xae\\xa7++\\xa6Jj\\xcb\\x92SR0E\\x9ad\\x8dd?\\xbb\\xb8\\x81\\x9f\\xd7U,\\x02\\xa0\\xcf\\xd8\\x02c\\x9bX\\xd6aH\\x9d\\xc2\\xd1k\\xa5\\xb4PGEG\\x16\"N|\\\\\\x96>lO\\xa9\\xd7\\xcf\\xf5Z\\xbb\\xee\\xb7}\\x87\\x9f\\xb0\\xf8K*\\xa0\\ta\\xde\\x1e\\x87L\\xa7V\\xcd\\xe8y\\xc5}\\xa6\\x18`\\xdcKF\\x01#\\xef/\\x04\\xfeZ\\xd2\\x02\\xbc\\xfa\\x87\\xe7\\xe70w0\\xe8g:\\xf8\\xbdN\\xf0\\xda\\xadt\\xb4\\x9b\\x92\\x96Y\\xf6\\xbcc\\x04p\\x06\\xd3\\x9e\\xbe\\xbez\\xd9\\xf0\\xb0\\x8dkXG\\xaa&\\xd6b\\xbbat\\xb6:\\nkGq\\x14(\\t@Kc\\x9c\\xeby\\x94\\x11+)\\xc1\\xcc\\x07\\xe1u\\\\\\xf3v\\xae\\xb6\\x9eF\\x8c$T\\xb2m\\\\s\\xf7\\xe3\\xd0\\xd7\\xd64\\x98\\xa5Kt\\xed\\x05%\\xd2\\xc7I\\x1d\\xc2\\x91PR1\\x8d%}\\x91#\\x80\\xe3l\\x87\\x8c6s\\x82\\x0fR\\xa7\\xdfL\\xc4T\\xa4\\x85n\\xd7n\\xc9\\xd3*\\xd5\\xc5\\xdd\\x9b\\xa1r\\xaf\\xe0tu\\x8c\\xe1\\xf2\\x07Lq\\x81\\xce@\\xe3\\x9d\\x0b\\xba\\xa0%\\xbaB\\x00\\x93\\xc4d\\x08\\xb2\\xd1OQp\\x8f}r@\"\\x96N\\x9b\\xdf$o>\\xad\\x8c~8\\xce\\xa8P\\xe5\\xad\\x15W\\xd0\\x9e>\\x1f\\x0f\\xacu\\x89\\x85\\xdceG\\xc8\\xc2\\xbb\\x0c2\\xb1#\\x04\\x86\\xd6\\xb3h\\xac#\\x99MYA\\x06u\\xbe\\xc7v\\x85n\\x94)\\x05L\\xd1\\x9a\\xf8\\xc1\\x0e\\x9b\\xbcL\\xa3\\x1e,}G\\xd7_=\\xf1\\x9f\\r}\\x15\\xe4\\x81\\xe9=\\xff\\x00\\x89\\xa7U\\xa2\\xc1\\x197\\x079S\\xac\\x9bH\\'p\\xfc1\\x83\\x89$c\\xcb<\\xf5S\\xad\\r;\\xf9\\x80\\x0c\\xf3\\xfc\\xfe}\\xe04C\\xf8\\xbbP\\xadh\\xa1H\\xd8\\x16\\x15G$\\x1eW\\nr\\x0f\\xf8\\xf2\\xd7\\xa0\\xf0\\xac\\x9bO\\xcb\\xf9\\x95\\xed8\\x11:\\xdf|\\xaf\\x8a\\xdaY\\xa5\\xca\\x0e\\x0b1\\xe7[\\xa7vx\\x8a\\x18\\x03\\x98\\xe3\\xf0\\xce\\x8f\\xbc\\xbc=\\xcaB\\xa5\\xe4\\xa4e\\x00\\x0cp]\\x0f\\xf0\\xd5J5;\\xb5MP\\xec?\\xe4{(\\xf2\\xc3bSOW\\xf6M\\x1d=\\xdd\\xd6\\x9d\\xe7\\xa2\\x99\\xa2\\xa5\\x11\\xb9a\\xb0\\x97\\x046\\x0f\\r\\xe2s\\xf4\\x1ar\\xea\\xacg\\x15\\xf6#?\\xbcci\\xebZ\\x99\\xb1\\xc8l~\\xd2\\x8e\\x92*\\x84\\xb2\\xcb\\x00\\xf9t\\xa5\\x15\\x8d<q\\xa3~\\xd66+\\xc0#?woC\\x8e\\xa0\\xe9z\\x8b|\\xca\\xc1\\xf8\\xc0E\\x02\\xc3\\x88\\xc3d\\xa2Z\\x9aI&\\xac\\x8c2\\xcer\\xa8}\\x069?\\x96\\xb3\\xc6\\xa0\\xd2\\xf9N\\xa2ji\\xf4\\x8bbn\\xb0q\\x0b\\xfb\\x16\\xdc\\xbd)SO\\xfd[R\\x7f\\xcaZ]\\x06\\x9b\\xff\\x00\\x02\\x17n\\xb1\\xa7xj\\xa8`\\x8e7\\x80\\x12e\\xdc\\x17\\x19\\x1d2t\\xa7k\\xf5\\x8aCr;\\xc1\\xb54t\\x10\\x19@\\xcf\\xc26\\xd0\\xd4\\t\\xe0\\x0c\\x06\\x1b\\xa3/\\x9a\\x9fMx\\x8dU\\rE\\xa5\\x0c\\xa3bllB\\x7fy[\\xcdNF\\x82\\x9b\\x9a\\xa6\\xc8\\x89#1c\\xb5T\\x94\\xf24k0i\\xc3\\xb1|I\\xc8O,\\x0f\\xcf^\\x9fI\\xa8$\\x96N%\\xdf\\x0e\\xa1\\x1c\\xb1q\\x99@\\xf6\\xea6@\\x86\\x9a-\\xa3\\xa0\\xdb\\xab\\xa7Qa\\xef5F\\x9a\\x91\\xfe#\\xe9\\x19\\xbb\\x14\\x8a\\x976DP\\xaa)\\xdb\\x00\\x0f\\xf9\\x97N\\xf0\\xe0?\\xa8\\'\\xe0~\\xe2g\\xf8\\xa5h\\xb4\\x82\\x07q\\xf61J\\xe9G[u\\xec\\xe4\\x11\\xad\\x1b\\x8a\\x84\\xaa\\xfd\\x84K\\x86\\xef\\xe2\\xf16\\xe1\\xcf_\\xbd\\x91\\xed\\x8fM_J\\xd42\\xb7}\\xb8\\x98\\xf6]\\x94d\\x1d7g\\xfd\\xc3,\\xb6Z\\xbb\\xc5Z\\xda\\xfb\\x90\\x96\\xc4\\xa93IP\\x1c\\x13\\xc2((G\\x91\\xe9\\xfe3\\xa8\\xa2\\xa3mJ;f\\x01}\\xaeLu\\xb7\\xd8i$\\xa8\\xab\\x80\\xee\\x0bN\\xc1\\x14\\x0e<\\x81\\xd3\\x7fL\\xa4r\\xdd\\xe5\\xc3\\xe2N\\x14\\x05\\x12Ag\\xb7\\xc7nz\\xaa\\x81!T\\x05\\x9b\\x04\\xe7\\x00\\xfah\\xbfM\\xa1x\"G\\xea7\\x16\\xe2\\rn\\x86\\x8aYRJu\\x7f\\x97W\\x12\\x00\\xfc\\x16l\\x1cu\\xfa\\x1f\\xa6\\xa9j\\xad\\xa3E^\\xe5\\x04\\x82\\x7f\\xde>2u>c`\\xbf\\\\Ac\\xa9\\xba|\\xc3\\xcfSL\\x91\\xa3L\\xc3\\xba\\xef\\x01e\\x8f\\xc9\\xb8\\x1c\\x9e\\xa7\\x19\\xe0c\\xcf^[X\\xfa]G\\xa5I\\xdd\\xee}\\xfd\\xb9\\xe8\"Sp\\xeb\\xd2[\\xd3\\xcc\\x93F\\xaf\\x1b\\x06V\\xe8u\\x8d\\xe5\\x95}\\xad\\x18ND\\x86[dw\\n\\xf8Zf\\x1d\\xd2\\xa9\\x0c=\\xf5\\xe8\\xbf\\xf9\\xdf*\\xdb\\rV|\\xc7\\xc65u-Em\\xb7\\xa9\\x90T\\xd9)\\xa2\\xbf\\xd2\\xd3\\x88\\xf3O4lz\\xf9\\x8f-z\\xf5\\xd0S\\xbb8\\xe3\\xdaB\\xf8\\x9d\\xa6\\xb2\\x0fXTT\\x94\\xf4\\x1d\\xa8X)\\x90\"\\xbd\\x13\\xb9\\xfcw\\xa8\\xd0\\r:Upd\\x18\\xc8?q\\x10\\xfa\\xa7\\xbe\\x82\\xaf\\xce\\x08\\xfb\\x18\\x9f\\x1b\\xb9\\xb5\\xd3w\\x96i\\x8b\\xd3U\\xbe\\xe8\\x02\\x02%\\x07#\\xbc<z\\xe0\\xf9\\xf4\\xeb\\xd3I\\xf3S\\xccR{\\x0f\\xe2S\\xc1\\xc1\\x87\\xd2\\\\%\\xb0\\xdc\\xaaR\\xdfe\\x96\\xa2\\'\\xee\\xf6T/\\x05\\xbc*\\x0er3\\xc1\\x04\\xfe$\\xfe::\\xf5\\n\\x8b\\x81 \\x83\\x98\\xc2/5\\x01\\x98\\xacq\\x02z\\xf8O\\xf3\\xd0\\x1d}\\x9e\\xc2F\\xc6\\x9aGs\\xa8H{\\xb5h\\xc2\\xf3\\xf7\\x97\\xff\\x00z\\x83\\xe2\\x16\\x93\\x9c\\x0f\\xcf\\xdev\\xc6\\xf7\\x90\\x197\\xb3\\x99$P\\x1f\\xa9A\\xd0\\xfa\\x8cj\\xbd\\x96\\xf9\\xe0\\xa5\\xa0\\x10c\\xb7\\xd9\\xc0\\'\\xa4\\x18\\xbc\\xde5iU\\xf1\\xc2>\\x0eH\\xc6\\xb1u\\x1e\\x15Q9\\xa9\\xbe\\xb1\\xa2\\xd3\\xde\\tGx\\x9a\\x1a\\xa9a\\xa9\\xa5\\xa9\\xd9\\x8f\\x0c\\xa2&e\\xcf\\xd0j\\x95\\xbe\\x15c\\x00W\\xacn\\xf5\\xf7\\x96UW\\x99c\\xa6QI\\ty\\xd8\\x85\\x8c2\\x1c/\\xab\\x12:~\\x1f\\xdb\\xe7\\xebCR\\x8a\\xa0\\x01\\xe9\\xe9\\xf0\\xf9J|\\x99\\xb3V\\xcf3\\xc5,\\x927y\\x1f*B\\x8f\\t=t?\\xd6]\\x9e\\x0c\\x8f,\\xfb\\xc3-.\\xd57C<\\xf9iV\\x02\\xa1\\x98\\x0e\\x9b\\x81\\xc6\\x9b\\xa7\\xb5\\xec\\xb7\\xd4{\\x7f\\xc9\\x05J\\x8e\\xb2\\xb4D\\x9b~\\xe8\\xd6n\"\\xa6\\x18\\xd3\\x1fw]\\x89\\x18\\x99\\xddFz\\xa8:\\x898\\x9b\\x08\\xd3\\xfd\\xddv\\'b{\\xdd\\xaf\\xa6\\xa7\\x13\\xb1<\\xee\\xd7wMF\\x04\\x9c\\t\\xefv\\xb8\\xce5\\xd8\\x9d0\\xc6\\x80}\\xddv8\\x9d0\\xc6\\xa3\\xcbR\\x00\\x9d,,j\\x05[`\\x7f\\xb3?\\xda5oD?\\xb8~_\\xf2t\\xff\\xd9'"
      ]
     },
     "execution_count": 58,
     "metadata": {},
     "output_type": "execute_result"
    }
   ],
   "source": [
    "#this is the image which is in the form of binary method \n",
    "requests.get(\"https://encrypted-tbn0.gstatic.com/images?q=tbn:ANd9GcQYg9lb3BWUpVaVU-lcLXJRX1-j0Qo_vnWF3qos86HmNOxDaFNhq-NiKUB0GA&s\").content"
   ]
  },
  {
   "cell_type": "code",
   "execution_count": 55,
   "id": "be3d624b-c9d0-486e-88c7-db3ed9c1b897",
   "metadata": {},
   "outputs": [
    {
     "name": "stdout",
     "output_type": "stream",
     "text": [
      "0\n",
      "1\n",
      "2\n",
      "3\n",
      "4\n",
      "5\n",
      "6\n",
      "7\n",
      "8\n",
      "9\n",
      "10\n",
      "11\n",
      "12\n",
      "13\n",
      "14\n",
      "15\n",
      "16\n",
      "17\n",
      "18\n",
      "19\n"
     ]
    }
   ],
   "source": [
    "#example :- that is to give the name for each image that are downloaded\n",
    "for i in image_tags:\n",
    "    print(image_tags.index(i))"
   ]
  },
  {
   "cell_type": "code",
   "execution_count": 62,
   "id": "c15c9ea8-b7c5-4d6d-80c0-ec7f6c2eb4c3",
   "metadata": {},
   "outputs": [
    {
     "data": {
      "text/plain": [
       "'images/suresh raina_19.jpg'"
      ]
     },
     "execution_count": 62,
     "metadata": {},
     "output_type": "execute_result"
    }
   ],
   "source": [
    "os.path.join(save_dir,f\"{query}_{image_tags.index(i)}.jpg\")\n",
    "#this resembles the output below...(save_dir=images)({query}_{image_tags.index(i)}.jpg=suresh raina_19.jpg')"
   ]
  },
  {
   "cell_type": "code",
   "execution_count": 56,
   "id": "c9e8e667-1a9f-4b6a-8ba7-98dd11010ccb",
   "metadata": {},
   "outputs": [],
   "source": [
    "#wb=writebinarycode\n",
    "for i in image_tags:\n",
    "    image_url=i['src']\n",
    "    image_data=requests.get(image_url).content\n",
    "    with open(os.path.join(save_dir,f\"{query}_{image_tags.index(i)}.jpg\"),\"wb\") as f:\n",
    "        f.write(image_data)"
   ]
  },
  {
   "cell_type": "code",
   "execution_count": null,
   "id": "d0b140f9-cdda-4728-804e-5d721c9e9788",
   "metadata": {},
   "outputs": [],
   "source": []
  },
  {
   "cell_type": "code",
   "execution_count": null,
   "id": "cfc74063-a489-4123-bb6c-c00b3cf19256",
   "metadata": {},
   "outputs": [],
   "source": []
  }
 ],
 "metadata": {
  "kernelspec": {
   "display_name": "Python 3 (ipykernel)",
   "language": "python",
   "name": "python3"
  },
  "language_info": {
   "codemirror_mode": {
    "name": "ipython",
    "version": 3
   },
   "file_extension": ".py",
   "mimetype": "text/x-python",
   "name": "python",
   "nbconvert_exporter": "python",
   "pygments_lexer": "ipython3",
   "version": "3.12.0"
  }
 },
 "nbformat": 4,
 "nbformat_minor": 5
}
